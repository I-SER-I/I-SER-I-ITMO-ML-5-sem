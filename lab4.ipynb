{
  "nbformat": 4,
  "nbformat_minor": 0,
  "metadata": {
    "colab": {
      "name": "lab4.ipynb",
      "provenance": [],
      "collapsed_sections": []
    },
    "kernelspec": {
      "name": "python3",
      "display_name": "Python 3"
    }
  },
  "cells": [
    {
      "cell_type": "markdown",
      "metadata": {
        "id": "hGClrhQA9SAk"
      },
      "source": [
        "# Деревья решений"
      ]
    },
    {
      "cell_type": "markdown",
      "metadata": {
        "id": "veekMy8WRjBi"
      },
      "source": [
        "## Построение дерева"
      ]
    },
    {
      "cell_type": "markdown",
      "metadata": {
        "id": "SYkVwAFiUHXj"
      },
      "source": [
        "Опишем жадный алгоритм построения бинарного дерева решений:\n",
        "1. Начинаем со всей обучающей выборки $X$, которую помещаем в корень $R_1$. \n",
        "2. Задаём функционал качества $Q(X, j, t)$ и критерий остановки. \n",
        "3. Запускаем построение из корня: $SplitNode(1, R_1)$\n",
        "\n",
        "Функция $SplitNode(m, R_m)$\n",
        "1. Если выполнен критерий остановки, то выход.\n",
        "2. Находим наилучший с точки зрения $Q$ предикат: $j, t$: $[x_j<t]$\n",
        "3. Помещаем предикат в вкршину и получаем с его помощью разбиение $X$ на две части: $R_{left} = \\lbrace x|x_j<t \\rbrace$ и $R_{right} = \\lbrace x|x_j \\geqslant t \\rbrace$\n",
        "4. Поместим $R_{left}$ и $R_{right}$ соответсвенно в левое и правое поддерево.\n",
        "5. Рекурсивно повторяем $SplitNode(left, R_{left})$ и $SplitNode(right, R_{right})$.\n",
        "\n",
        "В конце поставим в соответствие каждому листу ответ. Для задачи классификации - это самый частый среди объектов класс или вектор с долями классов (можно интерпретировать как вероятности):\n",
        "$$ c_v = \\arg \\max_{k\\in Y} \\sum_{(x_i,y_i) \\in R_v} [y_i=k]  $$"
      ]
    },
    {
      "cell_type": "markdown",
      "metadata": {
        "id": "9P6FsdBog4Ai"
      },
      "source": [
        "## Функционал качества для деревьев решений\n"
      ]
    },
    {
      "cell_type": "markdown",
      "metadata": {
        "id": "9VAKO0aykGBD"
      },
      "source": [
        "Энтропия Шеннона для системы с N возможными состояниями определяется по формуле:\n",
        "$$H = - \\sum_{i=0}^{N} p_i\\log_2p_i $$"
      ]
    },
    {
      "cell_type": "markdown",
      "metadata": {
        "id": "5582B-1Fn2bw"
      },
      "source": [
        "где $p_i$ – вероятности нахождения системы в $i$-ом состоянии. \n",
        "\n",
        "Это очень важное понятие теории информации, которое позволяет оценить количество информации (степень хаоса в системе). Чем выше энтропия, тем менее упорядочена система и наоборот. С помощью энтропии мы формализуем функционал качества для разделение выборки (для задачи классификации)."
      ]
    },
    {
      "cell_type": "code",
      "metadata": {
        "colab": {
          "base_uri": "https://localhost:8080/"
        },
        "id": "71cuWzon64nv",
        "outputId": "534af3bc-4bce-4a52-d2b6-0c55e469900f"
      },
      "source": [
        "from google.colab import drive\n",
        "drive.mount('/content/drive/')"
      ],
      "execution_count": 1286,
      "outputs": [
        {
          "output_type": "stream",
          "name": "stdout",
          "text": [
            "Drive already mounted at /content/drive/; to attempt to forcibly remount, call drive.mount(\"/content/drive/\", force_remount=True).\n"
          ]
        }
      ]
    },
    {
      "cell_type": "code",
      "metadata": {
        "id": "PbcMUd7bvk05"
      },
      "source": [
        "import numpy as np\n",
        "import pandas as pd\n",
        "\n",
        "import matplotlib.pyplot as plt\n",
        "\n",
        "import random\n",
        "from pprint import pprint\n",
        "\n",
        "from sklearn import datasets\n",
        "from sklearn.model_selection import train_test_split\n",
        "from sklearn.metrics import accuracy_score\n",
        "from sklearn.tree import DecisionTreeClassifier"
      ],
      "execution_count": 1287,
      "outputs": []
    },
    {
      "cell_type": "markdown",
      "metadata": {
        "id": "4AdLxP9CowTm"
      },
      "source": [
        "Код для расчёта энтропии:"
      ]
    },
    {
      "cell_type": "code",
      "metadata": {
        "id": "2mT8Jq8Av2sM"
      },
      "source": [
        "def entropy(y):\n",
        "    _, counts = np.unique(y, return_counts=True)\n",
        "\n",
        "    probabilities = counts / counts.sum()\n",
        "    entropy = sum(probabilities * -np.log2(probabilities))\n",
        "     \n",
        "    return entropy"
      ],
      "execution_count": 1288,
      "outputs": []
    },
    {
      "cell_type": "markdown",
      "metadata": {
        "id": "Xk9etb2vo7fK"
      },
      "source": [
        "Здесь $y$ - это массив значений целевой переменной"
      ]
    },
    {
      "cell_type": "markdown",
      "metadata": {
        "id": "07TCw0USzLus"
      },
      "source": [
        "Энтропия – по сути степень хаоса (или неопределенности) в системе. Уменьшение энтропии называют приростом информации (information gain, IG).\n",
        "\n",
        "Обочначим $R_v$ - объекты, которые нужно разделить в помощью предиката в вершине $v$. Запишем формулу для расчёта информационного прироста:\n",
        "$$ Q = IG = H(R_v) - (H(R_{left})+H(R_{right}))$$\n",
        "\n",
        "На каждом шаге нам нужно максимизировать этот функционал качества. Как это делать? Например, так можно перебрать $t$ для выбранного $j$."
      ]
    },
    {
      "cell_type": "markdown",
      "metadata": {
        "id": "trEWHDoXg_p9"
      },
      "source": [
        "Предыдущая версия формулы прироста информации слишком упрощена. В работе необходимо использовать более устойчивую формулу, которая учитывает не только энтропию подмножеств, но и их размер. \n",
        "\n",
        "$$ Q = IG = H(R_v) - \\Big (\\frac{|R_{left}|} {|R_{v}|} H(R_{left})+ \\frac{|R_{right}|} {|R_{v}|} H(R_{right})\\Big)$$\n",
        "\n",
        "где, $|R_{v}|$, $|R_{left}|$ и $|R_{right}|$ - количество элементов в соответствующих множествах."
      ]
    },
    {
      "cell_type": "markdown",
      "metadata": {
        "id": "9xmN6V_N1xBr"
      },
      "source": [
        "\n",
        "### Задание 4.1"
      ]
    },
    {
      "cell_type": "code",
      "metadata": {
        "id": "QuhHGX8GN4zy"
      },
      "source": [
        "iris = datasets.load_iris()\n",
        "X_train, X_test, y_train, y_test = train_test_split(iris.data, iris.target, test_size=0.33, random_state=42)"
      ],
      "execution_count": 1289,
      "outputs": []
    },
    {
      "cell_type": "markdown",
      "metadata": {
        "id": "nWFHZScF2CBF"
      },
      "source": [
        "Реализуйте алгоритм построения дерева. Должны быть отдельные функции (методы) для расчёта энтропии (уже есть), для разделения дерева (используйте `pandas`), для подсчёта функционала качества $IG$, для выбора наилучшего разделения (с учетом признакоd и порогов), для проверки критерия остановки.\n",
        "\n",
        "Для набора данных `iris` реализуйте алгоритм и минимум три из разными критерия остановки из перечисленных ниже:\n",
        "* максимальной глубины дерева = 5\n",
        "* минимального числа объектов в листе = 5\n",
        "* максимальное количество листьев в дереве = 5\n",
        "* purity (остановка, если все объекты в листе относятся к одному классу)\n",
        "\n",
        "Реализуйте функцию `predict` (на вход функции подаётся датафрейм с объектами)\n",
        "\n",
        "Оцените точность каждой модели с помощью метрики точность (`from sklearn.metrics import accuracy_score` или реализовать свою)."
      ]
    },
    {
      "cell_type": "code",
      "metadata": {
        "id": "cJ5CP9OpU5As"
      },
      "source": [
        "class MyTree:\n",
        "  def __init__(self, probabilities = None):\n",
        "    self.right = None\n",
        "    self.left = None\n",
        "    self.probabilities = probabilities\n",
        "    self.col = None\n",
        "    self.t = -1\n",
        "    self.depth = 1\n",
        "    self.is_stoped = False\n",
        "  def grow(self, probabilities):\n",
        "    node = MyTree()\n",
        "    node.probabilities = probabilities\n",
        "    self.depth += 1\n",
        "    return node"
      ],
      "execution_count": 1290,
      "outputs": []
    },
    {
      "cell_type": "markdown",
      "metadata": {
        "id": "2RlmBu7ofeTT"
      },
      "source": [
        "Реализовал с критериями:\n",
        "* максимальной глубины дерева\n",
        "* минимального числа объектов в листе\n",
        "* максимальное количество листьев в дереве"
      ]
    },
    {
      "cell_type": "code",
      "metadata": {
        "id": "mHJQWYwh72sI"
      },
      "source": [
        "class MyDecisionTreeClassifier:\n",
        "  def __init__(self, max_depth, min_samples_leaf, max_leaf_nodes):\n",
        "    self.tree = None\n",
        "    self.y = None\n",
        "    self.max_depth = max_depth\n",
        "    self.min_samples_leaf = min_samples_leaf\n",
        "    self.max_leaf_nodes = max_leaf_nodes\n",
        "\n",
        "  def probabilities(self, y):\n",
        "    return np.array([len(y[y == y_type]) / len(y) for y_type in np.unique(self.y)])\n",
        "      \n",
        "  def ig(self, r_v, r_left, r_right):\n",
        "    return entropy(r_v) - ((len(r_left) / len(r_v) * entropy(r_left)) + (len(r_right) / len(r_v) * entropy(r_right)))\n",
        "  \n",
        "  def split_node(self, X, y, node):\n",
        "    if node.depth >= self.max_depth or len(X) < self.max_leaf_nodes or len(np.unique(y)) == 1:\n",
        "      node.is_stoped = True\n",
        "      return\n",
        "    best_split_col = None\n",
        "    best_t = None\n",
        "    best_ig = -1\n",
        "    best_sample1, best_sample2, x1, x2 = [], [], [], []\n",
        "    for col in range(X.shape[1]):\n",
        "      x_col = X[:, col]\n",
        "      for t in x_col:\n",
        "        sample1, sample2 = y[x_col < t], y[x_col >= t]       \n",
        "        if len(sample1) == 0 or len(sample2) == 0: continue\n",
        "        ig = self.ig(y, sample1, sample2)\n",
        "        if ig > best_ig:\n",
        "          best_t, best_ig, best_sample1, best_sample2, best_split_col = t, ig, sample1, sample2, col \n",
        "          x1, x2, x_col = X[x_col < best_t, :], X[x_col >= best_t, :], X[:, best_split_col]\n",
        "      if len(x1) < self.min_samples_leaf or len(x2) < self.min_samples_leaf:\n",
        "          node.is_stoped = True\n",
        "          return\n",
        "      node.left = node.grow(self.probabilities(best_sample1))\n",
        "      node.right = node.grow(self.probabilities(best_sample2))\n",
        "      node.col = best_split_col\n",
        "      node.t = best_t\n",
        "      self.split_node(x2, best_sample2, node.right)\n",
        "      self.split_node(x1, best_sample1, node.left)\n",
        "  \n",
        "  def fit(self, X, y):\n",
        "      self.y = y\n",
        "      self.tree = MyTree(self.probabilities(y))\n",
        "      self.split_node(np.asarray(X), y, self.tree)\n",
        "  \n",
        "  def predict(self, X):\n",
        "      return [np.argmax(self.predict_node(x, self.tree)) for x in np.asarray(X)]\n",
        "  \n",
        "  def predict_node(self, x, node):\n",
        "    if node.is_stoped:\n",
        "      return node.probabilities\n",
        "    elif x[node.col] > node.t:\n",
        "      return self.predict_node(x, node.right)\n",
        "    else:\n",
        "      return self.predict_node(x, node.left)"
      ],
      "execution_count": 1291,
      "outputs": []
    },
    {
      "cell_type": "markdown",
      "metadata": {
        "id": "bjunrua4OCGN"
      },
      "source": [
        "Моя версия:"
      ]
    },
    {
      "cell_type": "code",
      "metadata": {
        "id": "IImg02rGTlra",
        "colab": {
          "base_uri": "https://localhost:8080/"
        },
        "outputId": "69d7aca9-1fd5-41b0-805d-ddede0db5fad"
      },
      "source": [
        "myTree = MyDecisionTreeClassifier(5, 5, 5)\n",
        "myTree.fit(X_train, y_train)\n",
        "\n",
        "y_pred = myTree.predict(X_test)\n",
        "accuracy_score(y_test, y_pred)"
      ],
      "execution_count": 1292,
      "outputs": [
        {
          "output_type": "execute_result",
          "data": {
            "text/plain": [
              "0.92"
            ]
          },
          "metadata": {},
          "execution_count": 1292
        }
      ]
    },
    {
      "cell_type": "code",
      "metadata": {
        "colab": {
          "base_uri": "https://localhost:8080/",
          "height": 295
        },
        "id": "r6i1FUBSkzUq",
        "outputId": "61ea38ad-bbc5-427f-f2f0-7c338c98d1d6"
      },
      "source": [
        "plt.scatter(X_test[:, 1], X_test[:, 2], c=y_pred, cmap=plt.cm.Dark2)\n",
        "plt.title('Petal plot')\n",
        "plt.xlabel('petal length')\n",
        "plt.ylabel('petal width')\n",
        "plt.show()"
      ],
      "execution_count": 1293,
      "outputs": [
        {
          "output_type": "display_data",
          "data": {
            "image/png": "[encoded data removed]",
            "text/plain": [
              "<Figure size 432x288 with 1 Axes>"
            ]
          },
          "metadata": {
            "needs_background": "light"
          }
        }
      ]
    },
    {
      "cell_type": "markdown",
      "metadata": {
        "id": "zJA6e9TgOGPj"
      },
      "source": [
        "SkLearn версия:"
      ]
    },
    {
      "cell_type": "code",
      "metadata": {
        "colab": {
          "base_uri": "https://localhost:8080/"
        },
        "id": "kqX5VUwFjVW5",
        "outputId": "b218f441-d4d3-417c-f312-a46a75c7239e"
      },
      "source": [
        "skTree = DecisionTreeClassifier(criterion='entropy', max_depth=5, min_samples_leaf=5, max_leaf_nodes=5)\n",
        "skTree.fit(X_train, y_train)\n",
        "\n",
        "y_pred = skTree.predict(X_test)\n",
        "accuracy_score(y_test, y_pred)"
      ],
      "execution_count": 1294,
      "outputs": [
        {
          "output_type": "execute_result",
          "data": {
            "text/plain": [
              "1.0"
            ]
          },
          "metadata": {},
          "execution_count": 1294
        }
      ]
    },
    {
      "cell_type": "code",
      "metadata": {
        "colab": {
          "base_uri": "https://localhost:8080/",
          "height": 295
        },
        "id": "TTzACPWrmzgO",
        "outputId": "7f9d4eae-6300-4812-8935-ee1b946d7a09"
      },
      "source": [
        "plt.scatter(X_test[:, 1], X_test[:, 2], c=y_pred, cmap=plt.cm.Dark2)\n",
        "plt.title('Petal plot')\n",
        "plt.xlabel('petal length')\n",
        "plt.ylabel('petal width')\n",
        "plt.show()"
      ],
      "execution_count": 1295,
      "outputs": [
        {
          "output_type": "display_data",
          "data": {
            "image/png": "[encoded data removed]",
            "text/plain": [
              "<Figure size 432x288 with 1 Axes>"
            ]
          },
          "metadata": {
            "needs_background": "light"
          }
        }
      ]
    },
    {
      "cell_type": "markdown",
      "metadata": {
        "id": "xpt0JQj2nDBw"
      },
      "source": [
        "##Вывод\n",
        "\n",
        "Сравнив модели по метрике точности `accuracy_score`, можно сказать, что реализация с `sklearn` на $ 8\\% $ лучше моей(. Визуально это можно заметить, сравнив графики"
      ]
    },
    {
      "cell_type": "markdown",
      "metadata": {
        "id": "BkyCjLcy_CTM"
      },
      "source": [
        "##  Случайный лес"
      ]
    },
    {
      "cell_type": "markdown",
      "metadata": {
        "id": "7fKZe1FyRgCa"
      },
      "source": [
        "Опишем алгоритм случайный лес (*random forest*) и попутно разберём основные идеи:\n",
        "\n",
        "1. Зададим $N$ - число деревьев в лесу.\n",
        "2. Для каждого $n$ из $N$ сгенерируем свою выборку $X_n$. Пусть $m$ - это количество объектов в $X$. При генерации каждой $X_n$ мы будем брать объекты $m$ раз с возвращением. То есть один и тот же объект может попасть в выборку несколько раз, а какие-то объекты не попадут. (Этот способ назвается бутстрап).\n",
        "3. По каждой $X_n$ построим решающее дерево $b_n$. Обычно стараются делать глубокие деревья. В качестве критериев остановки можно использовать `max_depth` или `min_samples_leaf` (например, пока в каждом листе не окажется по одному объекту). При каждом разбиении сначала выбирается $k$ (эвристика $k = \\sqrt d$, где $d$ - это число признаков объектов из выборки $X$) случайных признаков из исходных, и оптимальное разделение выборки ищется только среди них. Обратите внимание, что мы не выбрасываем оставшиеся признаки!\n",
        "4. Итоговый алгоритм будет представлять собой результат голосования (для классификации) и среднее арифметическое (для регрессии). Модификация алгоритма предполагает учёт весов каждого отдельного слабого алгоритма в ансамбле, но в этом особо нет смысла.\n"
      ]
    },
    {
      "cell_type": "markdown",
      "metadata": {
        "id": "YJBQ8lc0WyrN"
      },
      "source": [
        "### Задание 4.2"
      ]
    },
    {
      "cell_type": "markdown",
      "metadata": {
        "id": "y594Jn04ZTCm"
      },
      "source": [
        "В качестве набора данных используйте: https://www.kaggle.com/mathchi/churn-for-bank-customers\n",
        "\n",
        "Там есть описание и примеры работы с этими данными. Если кратко, речь идёт про задачу прогнозирования оттока клиентов. Есть данные о 10 тысячах клиентов банка, часть из которых больше не являются клиентами."
      ]
    },
    {
      "cell_type": "code",
      "metadata": {
        "id": "Rn8T5Ha6dezD"
      },
      "source": [
        "from category_encoders import TargetEncoder"
      ],
      "execution_count": 1296,
      "outputs": []
    },
    {
      "cell_type": "code",
      "metadata": {
        "id": "YSdfFJx376oY"
      },
      "source": [
        "churn = pd.read_csv(\"/content/drive/MyDrive/churn.csv\", sep=\",\")"
      ],
      "execution_count": 1297,
      "outputs": []
    },
    {
      "cell_type": "code",
      "metadata": {
        "id": "ugk1ts2W-FCo"
      },
      "source": [
        "churn_target = churn[\"Exited\"]\n",
        "churn[\"Gender\"] = TargetEncoder().fit_transform(churn[\"Gender\"], churn_target)\n",
        "churn[\"Geography\"] = TargetEncoder().fit_transform(churn[\"Geography\"], churn_target)\n",
        "churn_data = churn.drop([\"RowNumber\", \"Surname\", \"CustomerId\", \"Exited\"], axis=1)\n",
        "X_train, X_test, y_train, y_test = train_test_split(churn_data, churn_target, test_size=0.33, random_state=42)"
      ],
      "execution_count": 1298,
      "outputs": []
    },
    {
      "cell_type": "markdown",
      "metadata": {
        "id": "be_mLbdVW2oG"
      },
      "source": [
        "Используя либо свою реализацию, либо  `DecisionTreeClassifier` с разными настройками из `sklearn.tree` реализйте алгоритм \"случайный лес\". \n",
        "\n",
        "Найдите наилучшие гиперпараметры этого алгоритма: количество деревьев, критерий остановки, функционал качества, минимальное количество объектов в листьях и другие.\n",
        "\n",
        "Нельзя использовать готовую реализацию случайного леса из `sklearn`.\n",
        "\n",
        "В подобных задачах очень важна интерпретируемость алгоритма. Попытайтесь оценить информативность признаков, т.е. ответить а вопрос, значения каких признаков являются самыми важными индикаторами того, что банк потеряет клиента."
      ]
    },
    {
      "cell_type": "code",
      "metadata": {
        "id": "2G8v_C7EIScO"
      },
      "source": [
        "class MyRandomForestClassifier:\n",
        "  def __init__(self, tree_count=100):\n",
        "    self.tree_count = tree_count\n",
        "    self.trees = []\n",
        "\n",
        "  def fit(self, X, y):\n",
        "    sample_size = len(X)\n",
        "    features = int(np.sqrt(X.shape[1]))\n",
        "    for i in range (0, self.tree_count):\n",
        "      X_sample = X.sample(n=sample_size, random_state=15)\n",
        "      y_sample = y.sample(n=sample_size, random_state=15)\n",
        "      tree = DecisionTreeClassifier(max_features=features)\n",
        "      tree.fit(X_sample, y_sample)\n",
        "      self.trees.append(tree)\n",
        "\n",
        "  def predict(self, X):\n",
        "    votes = []\n",
        "    for tree in self.trees:\n",
        "      votes.append(tree.predict(X))\n",
        "    votes = pd.DataFrame(data = votes)\n",
        "    return round(votes.mean())\n",
        "\n",
        "  def feature_importances(self):\n",
        "    votes = []\n",
        "    for tree in self.trees:\n",
        "      votes.append(tree.feature_importances_)\n",
        "    votes = pd.DataFrame(data = votes)\n",
        "    return votes.mean()"
      ],
      "execution_count": 1299,
      "outputs": []
    },
    {
      "cell_type": "code",
      "metadata": {
        "colab": {
          "base_uri": "https://localhost:8080/"
        },
        "id": "iPTSyZ-cggoa",
        "outputId": "7b5f79c5-a6b3-41e2-ef19-fef37da64358"
      },
      "source": [
        "myForest = MyRandomForestClassifier(100)\n",
        "myForest.fit(X_train, y_train)\n",
        "\n",
        "y_pred = myForest.predict(X_test)\n",
        "accuracy_score(y_test, y_pred)  "
      ],
      "execution_count": 1300,
      "outputs": [
        {
          "output_type": "execute_result",
          "data": {
            "text/plain": [
              "0.8590909090909091"
            ]
          },
          "metadata": {},
          "execution_count": 1300
        }
      ]
    },
    {
      "cell_type": "code",
      "metadata": {
        "colab": {
          "base_uri": "https://localhost:8080/",
          "height": 358
        },
        "id": "rggQ-LxTyP9Z",
        "outputId": "5fa52dbb-d49c-4e44-b9d7-f3d7efb04419"
      },
      "source": [
        "pd.DataFrame(data = np.c_[X_test.columns, myForest.feature_importances()], columns = [\"Feature\", \"Importance\"]).sort_values(by = \"Importance\", ascending=False)"
      ],
      "execution_count": 1301,
      "outputs": [
        {
          "output_type": "execute_result",
          "data": {
            "text/html": [
              "<div>\n",
              "<style scoped>\n",
              "    .dataframe tbody tr th:only-of-type {\n",
              "        vertical-align: middle;\n",
              "    }\n",
              "\n",
              "    .dataframe tbody tr th {\n",
              "        vertical-align: top;\n",
              "    }\n",
              "\n",
              "    .dataframe thead th {\n",
              "        text-align: right;\n",
              "    }\n",
              "</style>\n",
              "<table border=\"1\" class=\"dataframe\">\n",
              "  <thead>\n",
              "    <tr style=\"text-align: right;\">\n",
              "      <th></th>\n",
              "      <th>Feature</th>\n",
              "      <th>Importance</th>\n",
              "    </tr>\n",
              "  </thead>\n",
              "  <tbody>\n",
              "    <tr>\n",
              "      <th>3</th>\n",
              "      <td>Age</td>\n",
              "      <td>0.232134</td>\n",
              "    </tr>\n",
              "    <tr>\n",
              "      <th>9</th>\n",
              "      <td>EstimatedSalary</td>\n",
              "      <td>0.147199</td>\n",
              "    </tr>\n",
              "    <tr>\n",
              "      <th>0</th>\n",
              "      <td>CreditScore</td>\n",
              "      <td>0.145226</td>\n",
              "    </tr>\n",
              "    <tr>\n",
              "      <th>5</th>\n",
              "      <td>Balance</td>\n",
              "      <td>0.144567</td>\n",
              "    </tr>\n",
              "    <tr>\n",
              "      <th>6</th>\n",
              "      <td>NumOfProducts</td>\n",
              "      <td>0.128122</td>\n",
              "    </tr>\n",
              "    <tr>\n",
              "      <th>4</th>\n",
              "      <td>Tenure</td>\n",
              "      <td>0.0820775</td>\n",
              "    </tr>\n",
              "    <tr>\n",
              "      <th>8</th>\n",
              "      <td>IsActiveMember</td>\n",
              "      <td>0.0434781</td>\n",
              "    </tr>\n",
              "    <tr>\n",
              "      <th>1</th>\n",
              "      <td>Geography</td>\n",
              "      <td>0.0405151</td>\n",
              "    </tr>\n",
              "    <tr>\n",
              "      <th>7</th>\n",
              "      <td>HasCrCard</td>\n",
              "      <td>0.0190984</td>\n",
              "    </tr>\n",
              "    <tr>\n",
              "      <th>2</th>\n",
              "      <td>Gender</td>\n",
              "      <td>0.0175833</td>\n",
              "    </tr>\n",
              "  </tbody>\n",
              "</table>\n",
              "</div>"
            ],
            "text/plain": [
              "           Feature Importance\n",
              "3              Age   0.232134\n",
              "9  EstimatedSalary   0.147199\n",
              "0      CreditScore   0.145226\n",
              "5          Balance   0.144567\n",
              "6    NumOfProducts   0.128122\n",
              "4           Tenure  0.0820775\n",
              "8   IsActiveMember  0.0434781\n",
              "1        Geography  0.0405151\n",
              "7        HasCrCard  0.0190984\n",
              "2           Gender  0.0175833"
            ]
          },
          "metadata": {},
          "execution_count": 1301
        }
      ]
    },
    {
      "cell_type": "code",
      "metadata": {
        "colab": {
          "base_uri": "https://localhost:8080/"
        },
        "id": "GPt5yJFv2obk",
        "outputId": "2421d065-afc4-433a-f411-e061b9ca845a"
      },
      "source": [
        "skForest = RandomForestClassifier(100)\n",
        "skForest.fit(X_train, y_train)\n",
        "\n",
        "y_pred = skForest.predict(X_test)\n",
        "accuracy_score(y_test, y_pred)  "
      ],
      "execution_count": 1302,
      "outputs": [
        {
          "output_type": "execute_result",
          "data": {
            "text/plain": [
              "0.873030303030303"
            ]
          },
          "metadata": {},
          "execution_count": 1302
        }
      ]
    },
    {
      "cell_type": "code",
      "metadata": {
        "colab": {
          "base_uri": "https://localhost:8080/",
          "height": 358
        },
        "id": "2NnGqvP8Fje1",
        "outputId": "584679ec-f5e9-4b48-ea4d-dd367ecf6021"
      },
      "source": [
        "pd.DataFrame(data=np.c_[X_test.columns, skForest.feature_importances_], columns=[\"Feature\", \"Importance\"]).sort_values(by=\"Importance\", ascending=False)"
      ],
      "execution_count": 1303,
      "outputs": [
        {
          "output_type": "execute_result",
          "data": {
            "text/html": [
              "<div>\n",
              "<style scoped>\n",
              "    .dataframe tbody tr th:only-of-type {\n",
              "        vertical-align: middle;\n",
              "    }\n",
              "\n",
              "    .dataframe tbody tr th {\n",
              "        vertical-align: top;\n",
              "    }\n",
              "\n",
              "    .dataframe thead th {\n",
              "        text-align: right;\n",
              "    }\n",
              "</style>\n",
              "<table border=\"1\" class=\"dataframe\">\n",
              "  <thead>\n",
              "    <tr style=\"text-align: right;\">\n",
              "      <th></th>\n",
              "      <th>Feature</th>\n",
              "      <th>Importance</th>\n",
              "    </tr>\n",
              "  </thead>\n",
              "  <tbody>\n",
              "    <tr>\n",
              "      <th>3</th>\n",
              "      <td>Age</td>\n",
              "      <td>0.230834</td>\n",
              "    </tr>\n",
              "    <tr>\n",
              "      <th>9</th>\n",
              "      <td>EstimatedSalary</td>\n",
              "      <td>0.146549</td>\n",
              "    </tr>\n",
              "    <tr>\n",
              "      <th>0</th>\n",
              "      <td>CreditScore</td>\n",
              "      <td>0.14254</td>\n",
              "    </tr>\n",
              "    <tr>\n",
              "      <th>5</th>\n",
              "      <td>Balance</td>\n",
              "      <td>0.140822</td>\n",
              "    </tr>\n",
              "    <tr>\n",
              "      <th>6</th>\n",
              "      <td>NumOfProducts</td>\n",
              "      <td>0.130975</td>\n",
              "    </tr>\n",
              "    <tr>\n",
              "      <th>4</th>\n",
              "      <td>Tenure</td>\n",
              "      <td>0.0818847</td>\n",
              "    </tr>\n",
              "    <tr>\n",
              "      <th>8</th>\n",
              "      <td>IsActiveMember</td>\n",
              "      <td>0.0445391</td>\n",
              "    </tr>\n",
              "    <tr>\n",
              "      <th>1</th>\n",
              "      <td>Geography</td>\n",
              "      <td>0.0423227</td>\n",
              "    </tr>\n",
              "    <tr>\n",
              "      <th>7</th>\n",
              "      <td>HasCrCard</td>\n",
              "      <td>0.0199336</td>\n",
              "    </tr>\n",
              "    <tr>\n",
              "      <th>2</th>\n",
              "      <td>Gender</td>\n",
              "      <td>0.0196001</td>\n",
              "    </tr>\n",
              "  </tbody>\n",
              "</table>\n",
              "</div>"
            ],
            "text/plain": [
              "           Feature Importance\n",
              "3              Age   0.230834\n",
              "9  EstimatedSalary   0.146549\n",
              "0      CreditScore    0.14254\n",
              "5          Balance   0.140822\n",
              "6    NumOfProducts   0.130975\n",
              "4           Tenure  0.0818847\n",
              "8   IsActiveMember  0.0445391\n",
              "1        Geography  0.0423227\n",
              "7        HasCrCard  0.0199336\n",
              "2           Gender  0.0196001"
            ]
          },
          "metadata": {},
          "execution_count": 1303
        }
      ]
    },
    {
      "cell_type": "markdown",
      "metadata": {
        "id": "uPyDp2tJz2AW"
      },
      "source": [
        "##Вывод\n",
        "\n",
        "Сравнив модели по метрике точности `accuracy_score`, можно сказать, что реализация случайного леса с `sklearn` на $ 1\\% $ лучше моей реалезации, т.е результаты алгоритмов должны быть схожими. Это действительно так, если посмотреть и сравнить на таблицы с признаками, то увидим, что порядок важности признаков одинаковый. Самым важным признаком является $\\text{Age}$ (возраст)"
      ]
    }
  ]
}