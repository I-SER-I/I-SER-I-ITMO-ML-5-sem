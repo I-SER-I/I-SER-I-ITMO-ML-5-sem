{
  "nbformat": 4,
  "nbformat_minor": 0,
  "metadata": {
    "colab": {
      "name": "Lab4.ipynb",
      "provenance": [],
      "collapsed_sections": []
    },
    "kernelspec": {
      "name": "python3",
      "display_name": "Python 3"
    }
  },
  "cells": [
    {
      "cell_type": "markdown",
      "metadata": {
        "id": "hGClrhQA9SAk"
      },
      "source": [
        "# Деревья решений"
      ]
    },
    {
      "cell_type": "markdown",
      "metadata": {
        "id": "veekMy8WRjBi"
      },
      "source": [
        "## Построение дерева"
      ]
    },
    {
      "cell_type": "markdown",
      "metadata": {
        "id": "SYkVwAFiUHXj"
      },
      "source": [
        "Опишем жадный алгоритм построения бинарного дерева решений:\n",
        "1. Начинаем со всей обучающей выборки $X$, которую помещаем в корень $R_1$. \n",
        "2. Задаём функционал качества $Q(X, j, t)$ и критерий остановки. \n",
        "3. Запускаем построение из корня: $SplitNode(1, R_1)$\n",
        "\n",
        "Функция $SplitNode(m, R_m)$\n",
        "1. Если выполнен критерий остановки, то выход.\n",
        "2. Находим наилучший с точки зрения $Q$ предикат: $j, t$: $[x_j<t]$\n",
        "3. Помещаем предикат в вкршину и получаем с его помощью разбиение $X$ на две части: $R_{left} = \\lbrace x|x_j<t \\rbrace$ и $R_{right} = \\lbrace x|x_j \\geqslant t \\rbrace$\n",
        "4. Поместим $R_{left}$ и $R_{right}$ соответсвенно в левое и правое поддерево.\n",
        "5. Рекурсивно повторяем $SplitNode(left, R_{left})$ и $SplitNode(right, R_{right})$.\n",
        "\n",
        "В конце поставим в соответствие каждому листу ответ. Для задачи классификации - это самый частый среди объектов класс или вектор с долями классов (можно интерпретировать как вероятности):\n",
        "$$ c_v = \\arg \\max_{k\\in Y} \\sum_{(x_i,y_i) \\in R_v} [y_i=k]  $$"
      ]
    },
    {
      "cell_type": "markdown",
      "metadata": {
        "id": "9P6FsdBog4Ai"
      },
      "source": [
        "## Функционал качества для деревьев решений\n"
      ]
    },
    {
      "cell_type": "markdown",
      "metadata": {
        "id": "9VAKO0aykGBD"
      },
      "source": [
        "Энтропия Шеннона для системы с N возможными состояниями определяется по формуле:\n",
        "$$H = - \\sum_{i=0}^{N} p_i\\log_2p_i $$"
      ]
    },
    {
      "cell_type": "markdown",
      "metadata": {
        "id": "5582B-1Fn2bw"
      },
      "source": [
        "где $p_i$ – вероятности нахождения системы в $i$-ом состоянии. \n",
        "\n",
        "Это очень важное понятие теории информации, которое позволяет оценить количество информации (степень хаоса в системе). Чем выше энтропия, тем менее упорядочена система и наоборот. С помощью энтропии мы формализуем функционал качества для разделение выборки (для задачи классификации)."
      ]
    },
    {
      "cell_type": "code",
      "metadata": {
        "colab": {
          "base_uri": "https://localhost:8080/"
        },
        "id": "71cuWzon64nv",
        "outputId": "11f5b8ef-36f3-4be6-f56f-68b87a2a850a"
      },
      "source": [
        "from google.colab import drive\n",
        "drive.mount('/content/drive/')"
      ],
      "execution_count": 1,
      "outputs": [
        {
          "output_type": "stream",
          "name": "stdout",
          "text": [
            "Mounted at /content/drive/\n"
          ]
        }
      ]
    },
    {
      "cell_type": "code",
      "metadata": {
        "id": "PbcMUd7bvk05"
      },
      "source": [
        "import numpy as np\n",
        "import pandas as pd\n",
        "\n",
        "import matplotlib.pyplot as plt\n",
        "\n",
        "import random\n",
        "from pprint import pprint\n",
        "\n",
        "from sklearn import datasets\n",
        "from sklearn.model_selection import train_test_split\n",
        "from sklearn.metrics import accuracy_score\n",
        "from sklearn.tree import DecisionTreeClassifier"
      ],
      "execution_count": 2,
      "outputs": []
    },
    {
      "cell_type": "markdown",
      "metadata": {
        "id": "4AdLxP9CowTm"
      },
      "source": [
        "Код для расчёта энтропии:"
      ]
    },
    {
      "cell_type": "code",
      "metadata": {
        "id": "2mT8Jq8Av2sM"
      },
      "source": [
        "def entropy(y):\n",
        "    _, counts = np.unique(y, return_counts=True)\n",
        "\n",
        "    probabilities = counts / counts.sum()\n",
        "    entropy = sum(probabilities * -np.log2(probabilities))\n",
        "     \n",
        "    return entropy"
      ],
      "execution_count": 3,
      "outputs": []
    },
    {
      "cell_type": "markdown",
      "metadata": {
        "id": "Xk9etb2vo7fK"
      },
      "source": [
        "Здесь $y$ - это массив значений целевой переменной"
      ]
    },
    {
      "cell_type": "markdown",
      "metadata": {
        "id": "07TCw0USzLus"
      },
      "source": [
        "Энтропия – по сути степень хаоса (или неопределенности) в системе. Уменьшение энтропии называют приростом информации (information gain, IG).\n",
        "\n",
        "Обочначим $R_v$ - объекты, которые нужно разделить в помощью предиката в вершине $v$. Запишем формулу для расчёта информационного прироста:\n",
        "$$ Q = IG = H(R_v) - (H(R_{left})+H(R_{right}))$$\n",
        "\n",
        "На каждом шаге нам нужно максимизировать этот функционал качества. Как это делать? Например, так можно перебрать $t$ для выбранного $j$."
      ]
    },
    {
      "cell_type": "markdown",
      "metadata": {
        "id": "trEWHDoXg_p9"
      },
      "source": [
        "Предыдущая версия формулы прироста информации слишком упрощена. В работе необходимо использовать более устойчивую формулу, которая учитывает не только энтропию подмножеств, но и их размер. \n",
        "\n",
        "$$ Q = IG = H(R_v) - \\Big (\\frac{|R_{left}|} {|R_{v}|} H(R_{left})+ \\frac{|R_{right}|} {|R_{v}|} H(R_{right})\\Big)$$\n",
        "\n",
        "где, $|R_{v}|$, $|R_{left}|$ и $|R_{right}|$ - количество элементов в соответствующих множествах."
      ]
    },
    {
      "cell_type": "markdown",
      "metadata": {
        "id": "9xmN6V_N1xBr"
      },
      "source": [
        "\n",
        "### Задание 4.1"
      ]
    },
    {
      "cell_type": "code",
      "metadata": {
        "id": "QuhHGX8GN4zy"
      },
      "source": [
        "iris = datasets.load_iris()\n",
        "X_train, X_test, y_train, y_test = train_test_split(iris.data, iris.target, test_size = 0.33, random_state = 42)"
      ],
      "execution_count": 4,
      "outputs": []
    },
    {
      "cell_type": "markdown",
      "metadata": {
        "id": "nWFHZScF2CBF"
      },
      "source": [
        "Реализуйте алгоритм построения дерева. Должны быть отдельные функции (методы) для расчёта энтропии (уже есть), для разделения дерева (используйте `pandas`), для подсчёта функционала качества $IG$, для выбора наилучшего разделения (с учетом признакоd и порогов), для проверки критерия остановки.\n",
        "\n",
        "Для набора данных `iris` реализуйте алгоритм и минимум три из разными критерия остановки из перечисленных ниже:\n",
        "* максимальной глубины дерева = 5\n",
        "* минимального числа объектов в листе = 5\n",
        "* максимальное количество листьев в дереве = 5\n",
        "* purity (остановка, если все объекты в листе относятся к одному классу)\n",
        "\n",
        "Реализуйте функцию `predict` (на вход функции подаётся датафрейм с объектами)\n",
        "\n",
        "Оцените точность каждой модели с помощью метрики точность (`from sklearn.metrics import accuracy_score` или реализовать свою)."
      ]
    },
    {
      "cell_type": "code",
      "metadata": {
        "id": "cJ5CP9OpU5As"
      },
      "source": [
        "class MyTree:\n",
        "  def __init__(self, probabilities = None):\n",
        "    self.right = None\n",
        "    self.left = None\n",
        "    self.probabilities = probabilities\n",
        "    self.col = None\n",
        "    self.t = -1\n",
        "    self.depth = 1\n",
        "    self.is_stoped = False\n",
        "  def grow(self, probabilities):\n",
        "    node = MyTree()\n",
        "    node.probabilities = probabilities\n",
        "    self.depth += 1\n",
        "    return node"
      ],
      "execution_count": 5,
      "outputs": []
    },
    {
      "cell_type": "markdown",
      "metadata": {
        "id": "2RlmBu7ofeTT"
      },
      "source": [
        "Реализовал с критериями:\n",
        "* максимальной глубины дерева\n",
        "* минимального числа объектов в листе\n",
        "* максимальное количество листьев в дереве"
      ]
    },
    {
      "cell_type": "code",
      "metadata": {
        "id": "mHJQWYwh72sI"
      },
      "source": [
        "class MyDecisionTreeClassifier:\n",
        "  def __init__(self, max_depth, min_samples_leaf, max_leaf_nodes):\n",
        "    self.tree = None\n",
        "    self.y = None\n",
        "    self.max_depth = max_depth\n",
        "    self.min_samples_leaf = min_samples_leaf\n",
        "    self.max_leaf_nodes = max_leaf_nodes\n",
        "\n",
        "  def probabilities(self, y):\n",
        "    return np.array([len(y[y == y_type]) / len(y) for y_type in np.unique(self.y)])\n",
        "      \n",
        "  def ig(self, r_v, r_left, r_right):\n",
        "    return entropy(r_v) - ((len(r_left) / len(r_v) * entropy(r_left)) + (len(r_right) / len(r_v) * entropy(r_right)))\n",
        "  \n",
        "  def split_node(self, X, y, node):\n",
        "    if node.depth >= self.max_depth or len(X) < self.max_leaf_nodes or len(np.unique(y)) == 1:\n",
        "      node.is_stoped = True\n",
        "      return\n",
        "    best_split_col = None\n",
        "    best_t = None\n",
        "    best_ig = -1\n",
        "    best_sample1, best_sample2, x1, x2 = [], [], [], []\n",
        "    for col in range(X.shape[1]):\n",
        "      x_col = X[:, col]\n",
        "      for t in x_col:\n",
        "        sample1, sample2 = y[x_col < t], y[x_col >= t]       \n",
        "        if len(sample1) == 0 or len(sample2) == 0: continue\n",
        "        ig = self.ig(y, sample1, sample2)\n",
        "        if ig > best_ig:\n",
        "          best_t, best_ig, best_sample1, best_sample2, best_split_col = t, ig, sample1, sample2, col \n",
        "          x1, x2, x_col = X[x_col < best_t, :], X[x_col >= best_t, :], X[:, best_split_col]\n",
        "      if len(x1) < self.min_samples_leaf or len(x2) < self.min_samples_leaf:\n",
        "          node.is_stoped = True\n",
        "          return\n",
        "      node.left = node.grow(self.probabilities(best_sample1))\n",
        "      node.right = node.grow(self.probabilities(best_sample2))\n",
        "      node.col = best_split_col\n",
        "      node.t = best_t\n",
        "      self.split_node(x2, best_sample2, node.right)\n",
        "      self.split_node(x1, best_sample1, node.left)\n",
        "  \n",
        "  def fit(self, X, y):\n",
        "      self.y = y\n",
        "      self.tree = MyTree(self.probabilities(y))\n",
        "      self.split_node(np.asarray(X), y, self.tree)\n",
        "  \n",
        "  def predict(self, X):\n",
        "      return [np.argmax(self.predict_node(x, self.tree)) for x in np.asarray(X)]\n",
        "  \n",
        "  def predict_node(self, x, node):\n",
        "    if node.is_stoped:\n",
        "      return node.probabilities\n",
        "    elif x[node.col] > node.t:\n",
        "      return self.predict_node(x, node.right)\n",
        "    else:\n",
        "      return self.predict_node(x, node.left)"
      ],
      "execution_count": 6,
      "outputs": []
    },
    {
      "cell_type": "markdown",
      "metadata": {
        "id": "bjunrua4OCGN"
      },
      "source": [
        "Моя версия:"
      ]
    },
    {
      "cell_type": "code",
      "metadata": {
        "id": "IImg02rGTlra",
        "colab": {
          "base_uri": "https://localhost:8080/"
        },
        "outputId": "8b7811cd-8b43-47ff-9fc3-14d0835b8377"
      },
      "source": [
        "myTree = MyDecisionTreeClassifier(5, 5, 5)\n",
        "myTree.fit(X_train, y_train)\n",
        "\n",
        "y_pred = myTree.predict(X_test)\n",
        "accuracy_score(y_test, y_pred)"
      ],
      "execution_count": null,
      "outputs": [
        {
          "output_type": "execute_result",
          "data": {
            "text/plain": [
              "0.92"
            ]
          },
          "metadata": {},
          "execution_count": 131
        }
      ]
    },
    {
      "cell_type": "code",
      "metadata": {
        "colab": {
          "base_uri": "https://localhost:8080/",
          "height": 295
        },
        "id": "r6i1FUBSkzUq",
        "outputId": "7ea0537c-ccd6-4066-ebd8-b7283d7a6596"
      },
      "source": [
        "plt.scatter(X_test[:, 1], X_test[:, 2], c = y_pred, cmap = plt.cm.Dark2)\n",
        "plt.title(\"Petal plot\")\n",
        "plt.xlabel(\"Petal length\")\n",
        "plt.ylabel(\"Petal width\")\n",
        "plt.show()"
      ],
      "execution_count": null,
      "outputs": [
        {
          "output_type": "display_data",
          "data": {
            "image/png": "[encoded data removed]",
            "text/plain": [
              "<Figure size 432x288 with 1 Axes>"
            ]
          },
          "metadata": {
            "needs_background": "light"
          }
        }
      ]
    },
    {
      "cell_type": "markdown",
      "metadata": {
        "id": "zJA6e9TgOGPj"
      },
      "source": [
        "SkLearn версия:"
      ]
    },
    {
      "cell_type": "code",
      "metadata": {
        "colab": {
          "base_uri": "https://localhost:8080/"
        },
        "id": "kqX5VUwFjVW5",
        "outputId": "c819653d-a1a9-4abf-83e2-1c2f286973dd"
      },
      "source": [
        "skTree = DecisionTreeClassifier(criterion = \"entropy\", max_depth = 5, min_samples_leaf = 5, max_leaf_nodes = 5)\n",
        "skTree.fit(X_train, y_train)\n",
        "\n",
        "y_pred = skTree.predict(X_test)\n",
        "accuracy_score(y_test, y_pred)"
      ],
      "execution_count": null,
      "outputs": [
        {
          "output_type": "execute_result",
          "data": {
            "text/plain": [
              "1.0"
            ]
          },
          "metadata": {},
          "execution_count": 133
        }
      ]
    },
    {
      "cell_type": "code",
      "metadata": {
        "colab": {
          "base_uri": "https://localhost:8080/",
          "height": 295
        },
        "id": "TTzACPWrmzgO",
        "outputId": "7b80b05e-70cb-40a1-810b-4a530a510518"
      },
      "source": [
        "plt.scatter(X_test[:, 1], X_test[:, 2], c = y_pred, cmap = plt.cm.Dark2)\n",
        "plt.title(\"Petal plot\")\n",
        "plt.xlabel(\"Petal length\")\n",
        "plt.ylabel(\"Petal width\")\n",
        "plt.show()"
      ],
      "execution_count": null,
      "outputs": [
        {
          "output_type": "display_data",
          "data": {
            "image/png": "[encoded data removed]",
            "text/plain": [
              "<Figure size 432x288 with 1 Axes>"
            ]
          },
          "metadata": {
            "needs_background": "light"
          }
        }
      ]
    },
    {
      "cell_type": "markdown",
      "metadata": {
        "id": "xpt0JQj2nDBw"
      },
      "source": [
        "##Вывод\n",
        "\n",
        "Сравнив модели по метрике точности `accuracy_score`, можно сказать, что реализация с `sklearn` на $ 8\\% $ лучше моей(. Визуально это можно заметить, сравнив графики"
      ]
    },
    {
      "cell_type": "markdown",
      "metadata": {
        "id": "BkyCjLcy_CTM"
      },
      "source": [
        "##  Случайный лес"
      ]
    },
    {
      "cell_type": "markdown",
      "metadata": {
        "id": "7fKZe1FyRgCa"
      },
      "source": [
        "Опишем алгоритм случайный лес (*random forest*) и попутно разберём основные идеи:\n",
        "\n",
        "1. Зададим $N$ - число деревьев в лесу.\n",
        "2. Для каждого $n$ из $N$ сгенерируем свою выборку $X_n$. Пусть $m$ - это количество объектов в $X$. При генерации каждой $X_n$ мы будем брать объекты $m$ раз с возвращением. То есть один и тот же объект может попасть в выборку несколько раз, а какие-то объекты не попадут. (Этот способ назвается бутстрап).\n",
        "3. По каждой $X_n$ построим решающее дерево $b_n$. Обычно стараются делать глубокие деревья. В качестве критериев остановки можно использовать `max_depth` или `min_samples_leaf` (например, пока в каждом листе не окажется по одному объекту). При каждом разбиении сначала выбирается $k$ (эвристика $k = \\sqrt d$, где $d$ - это число признаков объектов из выборки $X$) случайных признаков из исходных, и оптимальное разделение выборки ищется только среди них. Обратите внимание, что мы не выбрасываем оставшиеся признаки!\n",
        "4. Итоговый алгоритм будет представлять собой результат голосования (для классификации) и среднее арифметическое (для регрессии). Модификация алгоритма предполагает учёт весов каждого отдельного слабого алгоритма в ансамбле, но в этом особо нет смысла.\n"
      ]
    },
    {
      "cell_type": "markdown",
      "metadata": {
        "id": "YJBQ8lc0WyrN"
      },
      "source": [
        "### Задание 4.2"
      ]
    },
    {
      "cell_type": "markdown",
      "metadata": {
        "id": "y594Jn04ZTCm"
      },
      "source": [
        "В качестве набора данных используйте: https://www.kaggle.com/mathchi/churn-for-bank-customers\n",
        "\n",
        "Там есть описание и примеры работы с этими данными. Если кратко, речь идёт про задачу прогнозирования оттока клиентов. Есть данные о 10 тысячах клиентов банка, часть из которых больше не являются клиентами."
      ]
    },
    {
      "cell_type": "code",
      "metadata": {
        "colab": {
          "base_uri": "https://localhost:8080/"
        },
        "id": "lw06qUGERSeN",
        "outputId": "59dbbfde-70e3-4dfe-f4c3-a81ddaad9cda"
      },
      "source": [
        "pip install category_encoders"
      ],
      "execution_count": 7,
      "outputs": [
        {
          "output_type": "stream",
          "name": "stdout",
          "text": [
            "Collecting category_encoders\n",
            "  Downloading category_encoders-2.3.0-py2.py3-none-any.whl (82 kB)\n",
            "\u001b[?25l\r\u001b[K     |████                            | 10 kB 21.5 MB/s eta 0:00:01\r\u001b[K     |████████                        | 20 kB 26.2 MB/s eta 0:00:01\r\u001b[K     |████████████                    | 30 kB 13.1 MB/s eta 0:00:01\r\u001b[K     |████████████████                | 40 kB 9.8 MB/s eta 0:00:01\r\u001b[K     |████████████████████            | 51 kB 5.5 MB/s eta 0:00:01\r\u001b[K     |████████████████████████        | 61 kB 6.0 MB/s eta 0:00:01\r\u001b[K     |████████████████████████████    | 71 kB 5.8 MB/s eta 0:00:01\r\u001b[K     |███████████████████████████████▉| 81 kB 6.4 MB/s eta 0:00:01\r\u001b[K     |████████████████████████████████| 82 kB 302 kB/s \n",
            "\u001b[?25hRequirement already satisfied: statsmodels>=0.9.0 in /usr/local/lib/python3.7/dist-packages (from category_encoders) (0.10.2)\n",
            "Requirement already satisfied: pandas>=0.21.1 in /usr/local/lib/python3.7/dist-packages (from category_encoders) (1.1.5)\n",
            "Requirement already satisfied: scipy>=1.0.0 in /usr/local/lib/python3.7/dist-packages (from category_encoders) (1.4.1)\n",
            "Requirement already satisfied: patsy>=0.5.1 in /usr/local/lib/python3.7/dist-packages (from category_encoders) (0.5.2)\n",
            "Requirement already satisfied: numpy>=1.14.0 in /usr/local/lib/python3.7/dist-packages (from category_encoders) (1.19.5)\n",
            "Requirement already satisfied: scikit-learn>=0.20.0 in /usr/local/lib/python3.7/dist-packages (from category_encoders) (0.22.2.post1)\n",
            "Requirement already satisfied: pytz>=2017.2 in /usr/local/lib/python3.7/dist-packages (from pandas>=0.21.1->category_encoders) (2018.9)\n",
            "Requirement already satisfied: python-dateutil>=2.7.3 in /usr/local/lib/python3.7/dist-packages (from pandas>=0.21.1->category_encoders) (2.8.2)\n",
            "Requirement already satisfied: six in /usr/local/lib/python3.7/dist-packages (from patsy>=0.5.1->category_encoders) (1.15.0)\n",
            "Requirement already satisfied: joblib>=0.11 in /usr/local/lib/python3.7/dist-packages (from scikit-learn>=0.20.0->category_encoders) (1.0.1)\n",
            "Installing collected packages: category-encoders\n",
            "Successfully installed category-encoders-2.3.0\n"
          ]
        }
      ]
    },
    {
      "cell_type": "code",
      "metadata": {
        "id": "Rn8T5Ha6dezD",
        "colab": {
          "base_uri": "https://localhost:8080/"
        },
        "outputId": "f6e93db9-2dcf-46ba-9bc2-02b72cbc50d4"
      },
      "source": [
        "from category_encoders import TargetEncoder\n",
        "from sklearn.ensemble import RandomForestClassifier"
      ],
      "execution_count": 8,
      "outputs": [
        {
          "output_type": "stream",
          "name": "stderr",
          "text": [
            "/usr/local/lib/python3.7/dist-packages/statsmodels/tools/_testing.py:19: FutureWarning: pandas.util.testing is deprecated. Use the functions in the public API at pandas.testing instead.\n",
            "  import pandas.util.testing as tm\n"
          ]
        }
      ]
    },
    {
      "cell_type": "code",
      "metadata": {
        "id": "YSdfFJx376oY"
      },
      "source": [
        "churn = pd.read_csv(\"/content/drive/MyDrive/churn.csv\", sep = \",\")"
      ],
      "execution_count": 9,
      "outputs": []
    },
    {
      "cell_type": "code",
      "metadata": {
        "id": "ugk1ts2W-FCo"
      },
      "source": [
        "churn_target = churn[\"Exited\"]\n",
        "churn[\"Gender\"] = TargetEncoder().fit_transform(churn[\"Gender\"], churn_target)\n",
        "churn[\"Geography\"] = TargetEncoder().fit_transform(churn[\"Geography\"], churn_target)\n",
        "churn_data = churn.drop([\"RowNumber\", \"Surname\", \"CustomerId\", \"Exited\"], axis = 1)\n",
        "X_train, X_test, y_train, y_test = train_test_split(churn_data, churn_target, test_size = 0.33, random_state = 42)"
      ],
      "execution_count": 10,
      "outputs": []
    },
    {
      "cell_type": "markdown",
      "metadata": {
        "id": "be_mLbdVW2oG"
      },
      "source": [
        "Используя либо свою реализацию, либо  `DecisionTreeClassifier` с разными настройками из `sklearn.tree` реализйте алгоритм \"случайный лес\". \n",
        "\n",
        "Найдите наилучшие гиперпараметры этого алгоритма: количество деревьев, критерий остановки, функционал качества, минимальное количество объектов в листьях и другие.\n",
        "\n",
        "Нельзя использовать готовую реализацию случайного леса из `sklearn`.\n",
        "\n",
        "В подобных задачах очень важна интерпретируемость алгоритма. Попытайтесь оценить информативность признаков, т.е. ответить а вопрос, значения каких признаков являются самыми важными индикаторами того, что банк потеряет клиента."
      ]
    },
    {
      "cell_type": "code",
      "metadata": {
        "id": "2G8v_C7EIScO"
      },
      "source": [
        "class MyRandomForestClassifier:\n",
        "  def __init__(self, tree_count=100, max_depth=5, min_samples_leaf=5):\n",
        "    self.tree_count = tree_count\n",
        "    self.max_depth = max_depth\n",
        "    self.min_samples_leaf = min_samples_leaf\n",
        "\n",
        "    self.trees = []\n",
        "\n",
        "  def fit(self, X, y):\n",
        "    n = len(X)\n",
        "    features = int(np.sqrt(X.shape[1]))\n",
        "    for i in range (0, self.tree_count):\n",
        "      seed = np.random.randint(1, 1000)\n",
        "      X_sample = X.sample(n=n, random_state=seed)\n",
        "      y_sample = y.sample(n=n, random_state=seed)\n",
        "      tree = DecisionTreeClassifier(max_features=features, max_depth=self.max_depth, min_samples_split=self.min_samples_leaf)\n",
        "      tree.fit(X_sample, y_sample)\n",
        "      self.trees.append(tree)\n",
        "\n",
        "  def predict(self, X):\n",
        "    votes = []\n",
        "    for tree in self.trees:\n",
        "      votes.append(tree.predict(X))\n",
        "    votes = pd.DataFrame(data = votes)\n",
        "    return round(votes.mean())\n",
        "\n",
        "  def feature_importances(self):\n",
        "    votes = []\n",
        "    for tree in self.trees:\n",
        "      votes.append(tree.feature_importances_)\n",
        "    votes = pd.DataFrame(data = votes)\n",
        "    return votes.mean()"
      ],
      "execution_count": 13,
      "outputs": []
    },
    {
      "cell_type": "markdown",
      "metadata": {
        "id": "YHzl_DyJdX6I"
      },
      "source": [
        "Подбор гиперпараметров:"
      ]
    },
    {
      "cell_type": "code",
      "metadata": {
        "id": "j6exhgI9ZKZx"
      },
      "source": [
        "def get_best_hyper_param():\n",
        "  best_score = 0\n",
        "  best_max_tree = 0\n",
        "  best_max_depth = 0 \n",
        "  best_min_samples_leaf = 0 \n",
        "  for max_tree in [100, 200, 500]:\n",
        "    for max_depth in range(1, 10):\n",
        "      for min_samples_leaf in range(2, 4):\n",
        "        myForest = MyRandomForestClassifier(max_tree, max_depth, min_samples_leaf)\n",
        "        myForest.fit(X_train, y_train)\n",
        "        y_pred = myForest.predict(X_test)\n",
        "        current_score = accuracy_score(y_test, y_pred)\n",
        "        if current_score > best_score:\n",
        "          best_score = current_score\n",
        "          best_max_tree = max_tree\n",
        "          best_max_depth = max_depth \n",
        "          best_min_samples_leaf = min_samples_leaf\n",
        "  return best_max_tree, best_max_depth, best_min_samples_leaf"
      ],
      "execution_count": 22,
      "outputs": []
    },
    {
      "cell_type": "code",
      "metadata": {
        "id": "22ET5lIbbO8x"
      },
      "source": [
        "best_max_tree, best_max_depth, best_min_samples_leaf = get_best_hyper_param()"
      ],
      "execution_count": null,
      "outputs": []
    },
    {
      "cell_type": "markdown",
      "metadata": {
        "id": "x7pETd1n9I6B"
      },
      "source": [
        "Моя версия:"
      ]
    },
    {
      "cell_type": "code",
      "metadata": {
        "colab": {
          "base_uri": "https://localhost:8080/"
        },
        "id": "iPTSyZ-cggoa",
        "outputId": "8dd9412a-4e34-420d-e70d-43cb43b137a8"
      },
      "source": [
        "myForest = MyRandomForestClassifier(best_max_tree, best_max_depth, best_min_samples_leaf)\n",
        "myForest.fit(X_train, y_train)\n",
        "\n",
        "y_pred = myForest.predict(X_test)\n",
        "accuracy_score(y_test, y_pred)  "
      ],
      "execution_count": 25,
      "outputs": [
        {
          "output_type": "execute_result",
          "data": {
            "text/plain": [
              "0.8672727272727273"
            ]
          },
          "metadata": {},
          "execution_count": 25
        }
      ]
    },
    {
      "cell_type": "code",
      "metadata": {
        "colab": {
          "base_uri": "https://localhost:8080/",
          "height": 358
        },
        "id": "rggQ-LxTyP9Z",
        "outputId": "b7a1d03d-21af-4b56-9efe-867f10baedbb"
      },
      "source": [
        "pd.DataFrame(data = np.c_[X_test.columns, myForest.feature_importances()], columns = [\"Feature\", \"Importance\"]).sort_values(by = \"Importance\", ascending=False)"
      ],
      "execution_count": null,
      "outputs": [
        {
          "output_type": "execute_result",
          "data": {
            "text/html": [
              "<div>\n",
              "<style scoped>\n",
              "    .dataframe tbody tr th:only-of-type {\n",
              "        vertical-align: middle;\n",
              "    }\n",
              "\n",
              "    .dataframe tbody tr th {\n",
              "        vertical-align: top;\n",
              "    }\n",
              "\n",
              "    .dataframe thead th {\n",
              "        text-align: right;\n",
              "    }\n",
              "</style>\n",
              "<table border=\"1\" class=\"dataframe\">\n",
              "  <thead>\n",
              "    <tr style=\"text-align: right;\">\n",
              "      <th></th>\n",
              "      <th>Feature</th>\n",
              "      <th>Importance</th>\n",
              "    </tr>\n",
              "  </thead>\n",
              "  <tbody>\n",
              "    <tr>\n",
              "      <th>3</th>\n",
              "      <td>Age</td>\n",
              "      <td>0.235078</td>\n",
              "    </tr>\n",
              "    <tr>\n",
              "      <th>9</th>\n",
              "      <td>EstimatedSalary</td>\n",
              "      <td>0.147938</td>\n",
              "    </tr>\n",
              "    <tr>\n",
              "      <th>0</th>\n",
              "      <td>CreditScore</td>\n",
              "      <td>0.145271</td>\n",
              "    </tr>\n",
              "    <tr>\n",
              "      <th>5</th>\n",
              "      <td>Balance</td>\n",
              "      <td>0.144548</td>\n",
              "    </tr>\n",
              "    <tr>\n",
              "      <th>6</th>\n",
              "      <td>NumOfProducts</td>\n",
              "      <td>0.128656</td>\n",
              "    </tr>\n",
              "    <tr>\n",
              "      <th>4</th>\n",
              "      <td>Tenure</td>\n",
              "      <td>0.0816248</td>\n",
              "    </tr>\n",
              "    <tr>\n",
              "      <th>8</th>\n",
              "      <td>IsActiveMember</td>\n",
              "      <td>0.0419088</td>\n",
              "    </tr>\n",
              "    <tr>\n",
              "      <th>1</th>\n",
              "      <td>Geography</td>\n",
              "      <td>0.0400392</td>\n",
              "    </tr>\n",
              "    <tr>\n",
              "      <th>7</th>\n",
              "      <td>HasCrCard</td>\n",
              "      <td>0.0182578</td>\n",
              "    </tr>\n",
              "    <tr>\n",
              "      <th>2</th>\n",
              "      <td>Gender</td>\n",
              "      <td>0.0166792</td>\n",
              "    </tr>\n",
              "  </tbody>\n",
              "</table>\n",
              "</div>"
            ],
            "text/plain": [
              "           Feature Importance\n",
              "3              Age   0.235078\n",
              "9  EstimatedSalary   0.147938\n",
              "0      CreditScore   0.145271\n",
              "5          Balance   0.144548\n",
              "6    NumOfProducts   0.128656\n",
              "4           Tenure  0.0816248\n",
              "8   IsActiveMember  0.0419088\n",
              "1        Geography  0.0400392\n",
              "7        HasCrCard  0.0182578\n",
              "2           Gender  0.0166792"
            ]
          },
          "metadata": {},
          "execution_count": 175
        }
      ]
    },
    {
      "cell_type": "markdown",
      "metadata": {
        "id": "FIlE6-3W89as"
      },
      "source": [
        "SkLearn версия:"
      ]
    },
    {
      "cell_type": "code",
      "metadata": {
        "colab": {
          "base_uri": "https://localhost:8080/"
        },
        "id": "GPt5yJFv2obk",
        "outputId": "40e40179-3605-4965-970d-a4b4151d4e12"
      },
      "source": [
        "skForest = RandomForestClassifier(best_max_tree)\n",
        "skForest.fit(X_train, y_train)\n",
        "\n",
        "y_pred = skForest.predict(X_test)\n",
        "accuracy_score(y_test, y_pred)  "
      ],
      "execution_count": null,
      "outputs": [
        {
          "output_type": "execute_result",
          "data": {
            "text/plain": [
              "0.8678787878787879"
            ]
          },
          "metadata": {},
          "execution_count": 183
        }
      ]
    },
    {
      "cell_type": "code",
      "metadata": {
        "colab": {
          "base_uri": "https://localhost:8080/",
          "height": 358
        },
        "id": "2NnGqvP8Fje1",
        "outputId": "ae0edf6d-c469-4107-fe93-fb7907f84e05"
      },
      "source": [
        "pd.DataFrame(data = np.c_[X_test.columns, skForest.feature_importances_], columns = [\"Feature\", \"Importance\"]).sort_values(by = \"Importance\", ascending=False)"
      ],
      "execution_count": null,
      "outputs": [
        {
          "output_type": "execute_result",
          "data": {
            "text/html": [
              "<div>\n",
              "<style scoped>\n",
              "    .dataframe tbody tr th:only-of-type {\n",
              "        vertical-align: middle;\n",
              "    }\n",
              "\n",
              "    .dataframe tbody tr th {\n",
              "        vertical-align: top;\n",
              "    }\n",
              "\n",
              "    .dataframe thead th {\n",
              "        text-align: right;\n",
              "    }\n",
              "</style>\n",
              "<table border=\"1\" class=\"dataframe\">\n",
              "  <thead>\n",
              "    <tr style=\"text-align: right;\">\n",
              "      <th></th>\n",
              "      <th>Feature</th>\n",
              "      <th>Importance</th>\n",
              "    </tr>\n",
              "  </thead>\n",
              "  <tbody>\n",
              "    <tr>\n",
              "      <th>3</th>\n",
              "      <td>Age</td>\n",
              "      <td>0.233364</td>\n",
              "    </tr>\n",
              "    <tr>\n",
              "      <th>9</th>\n",
              "      <td>EstimatedSalary</td>\n",
              "      <td>0.145593</td>\n",
              "    </tr>\n",
              "    <tr>\n",
              "      <th>0</th>\n",
              "      <td>CreditScore</td>\n",
              "      <td>0.142516</td>\n",
              "    </tr>\n",
              "    <tr>\n",
              "      <th>5</th>\n",
              "      <td>Balance</td>\n",
              "      <td>0.142212</td>\n",
              "    </tr>\n",
              "    <tr>\n",
              "      <th>6</th>\n",
              "      <td>NumOfProducts</td>\n",
              "      <td>0.128529</td>\n",
              "    </tr>\n",
              "    <tr>\n",
              "      <th>4</th>\n",
              "      <td>Tenure</td>\n",
              "      <td>0.0817211</td>\n",
              "    </tr>\n",
              "    <tr>\n",
              "      <th>8</th>\n",
              "      <td>IsActiveMember</td>\n",
              "      <td>0.0438901</td>\n",
              "    </tr>\n",
              "    <tr>\n",
              "      <th>1</th>\n",
              "      <td>Geography</td>\n",
              "      <td>0.0422562</td>\n",
              "    </tr>\n",
              "    <tr>\n",
              "      <th>7</th>\n",
              "      <td>HasCrCard</td>\n",
              "      <td>0.020043</td>\n",
              "    </tr>\n",
              "    <tr>\n",
              "      <th>2</th>\n",
              "      <td>Gender</td>\n",
              "      <td>0.0198762</td>\n",
              "    </tr>\n",
              "  </tbody>\n",
              "</table>\n",
              "</div>"
            ],
            "text/plain": [
              "           Feature Importance\n",
              "3              Age   0.233364\n",
              "9  EstimatedSalary   0.145593\n",
              "0      CreditScore   0.142516\n",
              "5          Balance   0.142212\n",
              "6    NumOfProducts   0.128529\n",
              "4           Tenure  0.0817211\n",
              "8   IsActiveMember  0.0438901\n",
              "1        Geography  0.0422562\n",
              "7        HasCrCard   0.020043\n",
              "2           Gender  0.0198762"
            ]
          },
          "metadata": {},
          "execution_count": 154
        }
      ]
    },
    {
      "cell_type": "markdown",
      "metadata": {
        "id": "uPyDp2tJz2AW"
      },
      "source": [
        "##Вывод\n",
        "\n",
        "Сравнив модели по метрике точности `accuracy_score`, можно сказать, что реализация случайного леса с `sklearn` на $ 1\\% $ лучше моей реалезации, т.е результаты алгоритмов должны быть схожими. Это действительно так, если посмотреть и сравнить на таблицы с признаками, то увидим, что порядок важности признаков одинаковый, а значения признаков различаются в 3-ем порядке. Самым важным признаком является $\\text{Age}$ (возраст)\n",
        "\n",
        "Лучшие параметры гиперпараметры оказались:\n",
        "* количество деревьев = 500\n",
        "* максимальной глубины дерева = 2\n",
        "* минимального числа объектов в листе = 2"
      ]
    }
  ]
}