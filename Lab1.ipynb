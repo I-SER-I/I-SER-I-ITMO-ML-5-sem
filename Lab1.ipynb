{
  "nbformat": 4,
  "nbformat_minor": 0,
  "metadata": {
    "colab": {
      "name": "Papikian_Sergei_Lab1",
      "provenance": [],
      "collapsed_sections": []
    },
    "kernelspec": {
      "display_name": "Python 3",
      "language": "python",
      "name": "python3"
    },
    "language_info": {
      "codemirror_mode": {
        "name": "ipython",
        "version": 3
      },
      "file_extension": ".py",
      "mimetype": "text/x-python",
      "name": "python",
      "nbconvert_exporter": "python",
      "pygments_lexer": "ipython3",
      "version": "3.7.4"
    }
  },
  "cells": [
    {
      "cell_type": "markdown",
      "metadata": {
        "id": "BsNwjQDRfmLY"
      },
      "source": [
        "# Задание 1"
      ]
    },
    {
      "cell_type": "markdown",
      "metadata": {
        "id": "wu6r1-s7fmLe"
      },
      "source": [
        "---"
      ]
    },
    {
      "cell_type": "markdown",
      "metadata": {
        "id": "zxRIdPO9gYyX"
      },
      "source": [
        "Напишите программу, которая будет решать систему линейных уравнений вида:\n",
        "\n",
        "\\begin{matrix} a_{11}x+a_{12}y=b_{1}&(1) \\\\ a_{21}x+a_{22}y=b_{2} &(2) \\end{matrix}\n",
        "​\t\n",
        "На вход программа должна принимать 2 строки.\n",
        "\n",
        "Каждая строка содержит 3 действительных числа через пробел: коэффициенты a и b.\n",
        "\n",
        "На выходе программа должна выдавать значения x и y в одну строку через пробел.\n",
        " \n",
        "\n",
        "Примечание 1. Для разделения строки на отдельные элементы используйте функцию split()\n",
        "\n",
        "Примечание 2. В качестве разделителя между целой и дробной частью используйте точку, например 0.2"
      ]
    },
    {
      "cell_type": "code",
      "metadata": {
        "id": "uD1eio4p-PGm"
      },
      "source": [
        "import numpy as np"
      ],
      "execution_count": null,
      "outputs": []
    },
    {
      "cell_type": "code",
      "metadata": {
        "id": "6sxlcLbVlrjl",
        "colab": {
          "base_uri": "https://localhost:8080/"
        },
        "outputId": "269a0729-4670-4b8a-f53f-b3e9d0462d26"
      },
      "source": [
        "def linan():\n",
        "  input_message = \"Enter 3 numbers separated by space: \"\n",
        "  first_equation = np.array(input(input_message).split()).astype(float)\n",
        "  second_equation = np.array(input(input_message).split()).astype(float)\n",
        "\n",
        "  system_coefficients = np.array([first_equation[0:2], second_equation[0:2]])\n",
        "  constant_terms = np.array([first_equation[2], second_equation[2]])\n",
        "\n",
        "  unknowns = np.linalg.solve(system_coefficients, constant_terms)\n",
        "\n",
        "  print(\"\\nResult:\\n\", unknowns[0], unknowns[1])\n",
        "\n",
        "# enter you code\n",
        "linan()"
      ],
      "execution_count": null,
      "outputs": [
        {
          "output_type": "stream",
          "name": "stdout",
          "text": [
            "Enter 3 numbers separated by space: 1 2 3\n",
            "Enter 3 numbers separated by space: 4 5 6\n",
            "\n",
            "Result:\n",
            " -1.0 2.0\n"
          ]
        }
      ]
    },
    {
      "cell_type": "markdown",
      "metadata": {
        "id": "wLoVDMQnfmOv"
      },
      "source": [
        "# Задание 2"
      ]
    },
    {
      "cell_type": "markdown",
      "metadata": {
        "id": "6bmt_YF3fmOw"
      },
      "source": [
        "Напишите функцию `decorate_matrix`, которая получает на вход одно целое число больше единицы. Функция должна возвращать матрицу n на n, у которой на границах стоят единицы, а на всех остальных позициях(если остались позиции не на границах) стоят нули.\n",
        "\n",
        "```\n",
        "# ожидаемый резальтат для аргумента 5\n",
        "array([[1., 1., 1., 1., 1.],\n",
        "[1., 0., 0., 0., 1.],\n",
        "[1., 0., 0., 0., 1.],\n",
        "[1., 0., 0., 0., 1.],\n",
        "[1., 1., 1., 1., 1.]])\n",
        "```\n",
        "\n"
      ]
    },
    {
      "cell_type": "code",
      "metadata": {
        "colab": {
          "base_uri": "https://localhost:8080/"
        },
        "id": "hee2ZO5Q4mRT",
        "outputId": "e7bbc7b9-5500-46de-9d42-97e9558a7022"
      },
      "source": [
        "def decorate_matrix(n):\n",
        "  matrix = np.zeros(shape=(n, n))\n",
        "  matrix[:, 0] = 1\n",
        "  matrix[:, n - 1] = 1\n",
        "  matrix[0, :] = 1\n",
        "  matrix[n - 1, :] = 1\n",
        "  return matrix\n",
        "\n",
        "n = int(input(\"Enter number: \"))\n",
        "\n",
        "print(\"\\nResult:\\n\", repr(decorate_matrix(n)))"
      ],
      "execution_count": null,
      "outputs": [
        {
          "output_type": "stream",
          "name": "stdout",
          "text": [
            "Enter number: 5\n",
            "\n",
            "Result:\n",
            " array([[1., 1., 1., 1., 1.],\n",
            "       [1., 0., 0., 0., 1.],\n",
            "       [1., 0., 0., 0., 1.],\n",
            "       [1., 0., 0., 0., 1.],\n",
            "       [1., 1., 1., 1., 1.]])\n"
          ]
        }
      ]
    },
    {
      "cell_type": "markdown",
      "metadata": {
        "id": "75sxny1zSCbl"
      },
      "source": [
        "# Задание 3"
      ]
    },
    {
      "cell_type": "markdown",
      "metadata": {
        "id": "2Xq1tBBAS5UJ"
      },
      "source": [
        "1) реализуйте 2 функции:\n",
        "\n",
        "$f(x) = (x+a)^2 - b$ \n",
        "\n",
        "$g(x) = |f(x)|$\n",
        "\n",
        "2) Найдите аргументы, при которых достигается минимум функций $f(x)$ и $g(x)$\n",
        "\n",
        "Пример. \n",
        "Входные значение: $a=3$ и $b=4$\n",
        "\n",
        "Выходные значения:\n",
        "\n",
        "`-3.0 -1.0`"
      ]
    },
    {
      "cell_type": "code",
      "metadata": {
        "id": "tMDZnmViA9rk"
      },
      "source": [
        "def f(a, b):\n",
        "  return lambda x: (x + a)**2 - b\n",
        "\n",
        "def g(a, b):\n",
        "  return lambda x: np.abs(f(a, b)(x))\n",
        "\n",
        "def dichotomy(function, a, b, left_limit, right_limit):\n",
        "  argument = (left_limit + right_limit) / 2\n",
        "  epsilon = 0.001\n",
        "  while np.abs(right_limit - left_limit) > epsilon:\n",
        "    first_value = function(a, b)(argument - epsilon / 2)\n",
        "    second_value = function(a, b)(argument + epsilon / 2)\n",
        "    if first_value <= second_value:\n",
        "      right_limit = argument - epsilon / 2;\n",
        "    else:\n",
        "      left_limit = argument + epsilon / 2;\n",
        "    argument = (right_limit + left_limit) / 2;\n",
        "  return argument"
      ],
      "execution_count": null,
      "outputs": []
    },
    {
      "cell_type": "code",
      "metadata": {
        "colab": {
          "base_uri": "https://localhost:8080/"
        },
        "id": "QfxFLR__FDM9",
        "outputId": "6a180f40-b1ec-4a3a-f692-d1cddef00a4e"
      },
      "source": [
        "a, b = map(float, input(\"Enter 2 numbers: \").split())\n",
        "\n",
        "f_min = round(float(dichotomy(f, a, b, -5, 5)), 1)\n",
        "g_min = [round(float(dichotomy(g, a, b, f_min, 5)), 1)]\n",
        "g_min.append(round(float(dichotomy(g, a, b, -5, f_min)), 1))\n",
        "\n",
        "print(f_min, g_min[0])"
      ],
      "execution_count": null,
      "outputs": [
        {
          "output_type": "stream",
          "name": "stdout",
          "text": [
            "Enter 2 numbers: 3 4\n",
            "-3.0 -1.0\n"
          ]
        }
      ]
    },
    {
      "cell_type": "markdown",
      "metadata": {
        "id": "efml9GzISC9Q"
      },
      "source": [
        "# Задание 4"
      ]
    },
    {
      "cell_type": "markdown",
      "metadata": {
        "id": "SDZvKcsTVbAW"
      },
      "source": [
        "Постройте графики для функций из предыдущего задания и отметьте другим цветом на графиках точки найденных минимумов."
      ]
    },
    {
      "cell_type": "code",
      "metadata": {
        "id": "2aJcJV1OPpO3"
      },
      "source": [
        "import matplotlib.pyplot as plt"
      ],
      "execution_count": null,
      "outputs": []
    },
    {
      "cell_type": "code",
      "metadata": {
        "id": "8aNbR9glPyfS"
      },
      "source": [
        "def plot_drow(function, a, b, min_value):\n",
        "  x = np.linspace(-10, 10, 100)\n",
        "  y = list(map(function(a, b), x))\n",
        "\n",
        "  plt.plot(x, y)\n",
        "  plt.ylabel(\"Y\")\n",
        "  plt.xlabel(\"X\")\n",
        "  for value in min_value:\n",
        "    plt.scatter(value, function(a, b)(value), c='#000000')"
      ],
      "execution_count": null,
      "outputs": []
    },
    {
      "cell_type": "code",
      "metadata": {
        "colab": {
          "base_uri": "https://localhost:8080/",
          "height": 279
        },
        "id": "yGPOz5_qQCiH",
        "outputId": "3b333911-bcc1-4ff9-e6c1-e774f8cbf7bf"
      },
      "source": [
        "plot_drow(f, a, b, [f_min])"
      ],
      "execution_count": null,
      "outputs": [
        {
          "output_type": "display_data",
          "data": {
            "image/png": "[encoded data removed]",
            "text/plain": [
              "<Figure size 432x288 with 1 Axes>"
            ]
          },
          "metadata": {
            "needs_background": "light"
          }
        }
      ]
    },
    {
      "cell_type": "code",
      "metadata": {
        "colab": {
          "base_uri": "https://localhost:8080/",
          "height": 279
        },
        "id": "vVRSqN9qQe8g",
        "outputId": "47e1312f-92b4-48de-ee52-4b56b63084f9"
      },
      "source": [
        "plot_drow(g, a, b, g_min)"
      ],
      "execution_count": null,
      "outputs": [
        {
          "output_type": "display_data",
          "data": {
            "image/png": "[encoded data removed]",
            "text/plain": [
              "<Figure size 432x288 with 1 Axes>"
            ]
          },
          "metadata": {
            "needs_background": "light"
          }
        }
      ]
    },
    {
      "cell_type": "markdown",
      "metadata": {
        "id": "mrby3EfiSDKJ"
      },
      "source": [
        "# Задание 5"
      ]
    },
    {
      "cell_type": "markdown",
      "metadata": {
        "id": "J6AZ8785VkQd"
      },
      "source": [
        "1000 человек бросают монетку. Каждый бросил 10 раз подряд.\n",
        "\n",
        " 1. Какова вероятность того, что хотя бы у одного человека монетка выпала 10 раз подряд той же самой сторой (орлом или решкой)? \n",
        " 2. Какова вероятность того, что хотя бы у одного человека монетка выпала 8 раз подряд той же самой сторой (орлом или решкой)? \n",
        " 3. Какова вероятность того, что ровно у троих человек из 1000 монетка выпала 10 раз подряд той же самой сторой (орлом или решкой)?"
      ]
    },
    {
      "cell_type": "code",
      "metadata": {
        "id": "pfbkqGOWT0Yn"
      },
      "source": [
        "def C(n, k): \n",
        "  return np.math.factorial(n) / (np.math.factorial(n-k) * np.math.factorial(k))"
      ],
      "execution_count": null,
      "outputs": []
    },
    {
      "cell_type": "code",
      "metadata": {
        "id": "MufqbJpo8Swq",
        "colab": {
          "base_uri": "https://localhost:8080/"
        },
        "outputId": "c5920e3c-3d95-476a-b2cb-01daa863b49b"
      },
      "source": [
        "p = 2 / 2**10\n",
        "q = 1 - p\n",
        "P = 0\n",
        "\n",
        "for i in range(1, 1001):\n",
        "  P += C(1000, i) * p**i * q**(1000-i)\n",
        "\n",
        "print(\"Result:\", round(P, 4))"
      ],
      "execution_count": null,
      "outputs": [
        {
          "output_type": "stream",
          "name": "stdout",
          "text": [
            "Result: 0.8584\n"
          ]
        }
      ]
    },
    {
      "cell_type": "code",
      "metadata": {
        "colab": {
          "base_uri": "https://localhost:8080/"
        },
        "id": "ce3opx9eTggL",
        "outputId": "6aa52a6a-7374-4c4c-f3fd-76c0b5121db9"
      },
      "source": [
        "human_count = 1000\n",
        "combination_count = 5\n",
        "# A = PPPPPPPP\n",
        "# OOA\n",
        "# OAO\n",
        "# AOO\n",
        "# POA\n",
        "# AOP\n",
        "money_probability = 2 / 2**10\n",
        "inverse_probability = 1 - money_probability * combination_count\n",
        "probability = 1 - (inverse_probability) ** human_count\n",
        "\n",
        "print(\"Result:\", round(probability, 4))"
      ],
      "execution_count": null,
      "outputs": [
        {
          "output_type": "stream",
          "name": "stdout",
          "text": [
            "Result: 0.9999\n"
          ]
        }
      ]
    },
    {
      "cell_type": "code",
      "metadata": {
        "colab": {
          "base_uri": "https://localhost:8080/"
        },
        "id": "pdak2sagWCxP",
        "outputId": "660f1f33-a4c5-45e0-d521-816ae1420d0b"
      },
      "source": [
        "p = 2 / 2**10\n",
        "q = 1 - p\n",
        "P = C(1000, 3) * p**3 * q**(1000-3)\n",
        "\n",
        "print(\"Result:\", round(P, 4))"
      ],
      "execution_count": null,
      "outputs": [
        {
          "output_type": "stream",
          "name": "stdout",
          "text": [
            "Result: 0.1763\n"
          ]
        }
      ]
    }
  ]
}
