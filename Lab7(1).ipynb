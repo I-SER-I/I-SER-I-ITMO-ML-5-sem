{
  "nbformat": 4,
  "nbformat_minor": 0,
  "metadata": {
    "colab": {
      "name": "Lab7(1)",
      "provenance": [],
      "collapsed_sections": []
    },
    "kernelspec": {
      "display_name": "Python 3",
      "language": "python",
      "name": "python3"
    },
    "language_info": {
      "codemirror_mode": {
        "name": "ipython",
        "version": 3
      },
      "file_extension": ".py",
      "mimetype": "text/x-python",
      "name": "python",
      "nbconvert_exporter": "python",
      "pygments_lexer": "ipython3",
      "version": "3.6.5"
    },
    "accelerator": "GPU"
  },
  "cells": [
    {
      "cell_type": "markdown",
      "metadata": {
        "id": "vcnGdgw_YJ8u"
      },
      "source": [
        "# PyTorch. Основы: синтаксис, torch.cuda и torch.autograd\n",
        "\n",
        "## Задание 7.1"
      ]
    },
    {
      "cell_type": "code",
      "metadata": {
        "id": "RtyozNmmYJ89"
      },
      "source": [
        "import torch\n",
        "import matplotlib.pyplot as plt\n",
        "from torch.autograd import Variable"
      ],
      "execution_count": 27,
      "outputs": []
    },
    {
      "cell_type": "markdown",
      "metadata": {
        "id": "ny4-Qi2wYJ-6"
      },
      "source": [
        "### Задача 1"
      ]
    },
    {
      "cell_type": "markdown",
      "metadata": {
        "id": "IWxlFq0bYJ-_"
      },
      "source": [
        "1). Создайте два вещественных тензора: `a` размером (3, 4) и `b` размером (12,)   \n",
        "2). Создайте тензор `c`, являющийся тензором `b`, но размера (2, 2, 3)  \n",
        "3). Выведите первый столбец матрицы `a` с помощью индексации"
      ]
    },
    {
      "cell_type": "code",
      "metadata": {
        "id": "3oxZuk3yYJ_A",
        "colab": {
          "base_uri": "https://localhost:8080/"
        },
        "outputId": "605c58fa-2ed4-4a27-bd62-d0091eaabc6c"
      },
      "source": [
        "a = torch.rand(3, 4)\n",
        "b = torch.rand(12)\n",
        "a, b"
      ],
      "execution_count": 3,
      "outputs": [
        {
          "output_type": "execute_result",
          "data": {
            "text/plain": [
              "(tensor([[0.1581, 0.8358, 0.1647, 0.8053],\n",
              "         [0.2708, 0.8172, 0.7477, 0.7298],\n",
              "         [0.0848, 0.7314, 0.1545, 0.8049]]),\n",
              " tensor([0.0494, 0.0562, 0.8248, 0.9703, 0.0404, 0.5310, 0.4921, 0.3961, 0.7774,\n",
              "         0.0730, 0.9149, 0.4674]))"
            ]
          },
          "metadata": {},
          "execution_count": 3
        }
      ]
    },
    {
      "cell_type": "code",
      "source": [
        "c = b.reshape(2, 2, 3)\n",
        "c"
      ],
      "metadata": {
        "colab": {
          "base_uri": "https://localhost:8080/"
        },
        "id": "ZCOyY3b3fERu",
        "outputId": "ffee2473-cdb4-4866-868e-4c31b3b7712c"
      },
      "execution_count": 4,
      "outputs": [
        {
          "output_type": "execute_result",
          "data": {
            "text/plain": [
              "tensor([[[0.0494, 0.0562, 0.8248],\n",
              "         [0.9703, 0.0404, 0.5310]],\n",
              "\n",
              "        [[0.4921, 0.3961, 0.7774],\n",
              "         [0.0730, 0.9149, 0.4674]]])"
            ]
          },
          "metadata": {},
          "execution_count": 4
        }
      ]
    },
    {
      "cell_type": "code",
      "source": [
        "a[:, 0]"
      ],
      "metadata": {
        "colab": {
          "base_uri": "https://localhost:8080/"
        },
        "id": "pUW67fG7fUpQ",
        "outputId": "2b8d119d-4635-4df9-b8b0-0eb625ce922d"
      },
      "execution_count": 5,
      "outputs": [
        {
          "output_type": "execute_result",
          "data": {
            "text/plain": [
              "tensor([0.1581, 0.2708, 0.0848])"
            ]
          },
          "metadata": {},
          "execution_count": 5
        }
      ]
    },
    {
      "cell_type": "markdown",
      "metadata": {
        "id": "D2IP_FrKYKAA"
      },
      "source": [
        "### Задача 2"
      ]
    },
    {
      "cell_type": "markdown",
      "metadata": {
        "id": "tBZFbSYQYKAA"
      },
      "source": [
        "1). Создайте два вещественных тензора: `a` размером (5, 2) и `b` размером (1,10)   \n",
        "2). Создайте тензор `c`, являющийся тензором `b`, но размера (5, 2)  \n",
        "3). Произведите все арифметические операции с тензорами `a` и `c`"
      ]
    },
    {
      "cell_type": "code",
      "metadata": {
        "id": "hzs2bH3GYKAB",
        "colab": {
          "base_uri": "https://localhost:8080/"
        },
        "outputId": "27ac38a9-0662-493c-a391-6ed804f8b0d2"
      },
      "source": [
        "a = torch.rand(5, 2)\n",
        "b = torch.rand(1, 10)\n",
        "a, b"
      ],
      "execution_count": 6,
      "outputs": [
        {
          "output_type": "execute_result",
          "data": {
            "text/plain": [
              "(tensor([[0.2760, 0.0149],\n",
              "         [0.0293, 0.8060],\n",
              "         [0.9272, 0.2032],\n",
              "         [0.2217, 0.2259],\n",
              "         [0.7107, 0.7164]]),\n",
              " tensor([[0.3545, 0.7466, 0.6910, 0.0184, 0.9174, 0.2310, 0.9826, 0.9956, 0.8239,\n",
              "          0.8317]]))"
            ]
          },
          "metadata": {},
          "execution_count": 6
        }
      ]
    },
    {
      "cell_type": "code",
      "source": [
        "c = b.reshape(5, 2)\n",
        "c"
      ],
      "metadata": {
        "colab": {
          "base_uri": "https://localhost:8080/"
        },
        "id": "3sKCSm5yfl0l",
        "outputId": "5c4c2696-b15b-439c-c576-5204c2e70887"
      },
      "execution_count": 7,
      "outputs": [
        {
          "output_type": "execute_result",
          "data": {
            "text/plain": [
              "tensor([[0.3545, 0.7466],\n",
              "        [0.6910, 0.0184],\n",
              "        [0.9174, 0.2310],\n",
              "        [0.9826, 0.9956],\n",
              "        [0.8239, 0.8317]])"
            ]
          },
          "metadata": {},
          "execution_count": 7
        }
      ]
    },
    {
      "cell_type": "markdown",
      "source": [
        "**Сложение**"
      ],
      "metadata": {
        "id": "7A3kQVD0f2NT"
      }
    },
    {
      "cell_type": "code",
      "source": [
        "a.add(c)"
      ],
      "metadata": {
        "colab": {
          "base_uri": "https://localhost:8080/"
        },
        "id": "3D9vZN1NfuTM",
        "outputId": "f98dc56b-6bdb-4eee-8d13-37e6e838c10d"
      },
      "execution_count": 8,
      "outputs": [
        {
          "output_type": "execute_result",
          "data": {
            "text/plain": [
              "tensor([[0.6305, 0.7616],\n",
              "        [0.7203, 0.8244],\n",
              "        [1.8446, 0.4342],\n",
              "        [1.2043, 1.2215],\n",
              "        [1.5346, 1.5481]])"
            ]
          },
          "metadata": {},
          "execution_count": 8
        }
      ]
    },
    {
      "cell_type": "markdown",
      "source": [
        "**Вычитание**"
      ],
      "metadata": {
        "id": "hI1Ly0CJf6_M"
      }
    },
    {
      "cell_type": "code",
      "source": [
        "a.sub(c)"
      ],
      "metadata": {
        "colab": {
          "base_uri": "https://localhost:8080/"
        },
        "id": "y5O2TjDGgJ1h",
        "outputId": "a6988e3a-3ccc-437e-d891-4a2e38e58439"
      },
      "execution_count": 9,
      "outputs": [
        {
          "output_type": "execute_result",
          "data": {
            "text/plain": [
              "tensor([[-0.0785, -0.7317],\n",
              "        [-0.6617,  0.7875],\n",
              "        [ 0.0098, -0.0277],\n",
              "        [-0.7608, -0.7697],\n",
              "        [-0.1132, -0.1153]])"
            ]
          },
          "metadata": {},
          "execution_count": 9
        }
      ]
    },
    {
      "cell_type": "markdown",
      "source": [
        "**Умножение**"
      ],
      "metadata": {
        "id": "YV7UVTL_f-qY"
      }
    },
    {
      "cell_type": "code",
      "source": [
        "a.mul(c)"
      ],
      "metadata": {
        "colab": {
          "base_uri": "https://localhost:8080/"
        },
        "id": "0rr4A1CPgKKE",
        "outputId": "98006918-50f2-4f3f-f6bd-c652df0f883b"
      },
      "execution_count": 10,
      "outputs": [
        {
          "output_type": "execute_result",
          "data": {
            "text/plain": [
              "tensor([[0.0978, 0.0112],\n",
              "        [0.0203, 0.0149],\n",
              "        [0.8506, 0.0469],\n",
              "        [0.2178, 0.2249],\n",
              "        [0.5855, 0.5959]])"
            ]
          },
          "metadata": {},
          "execution_count": 10
        }
      ]
    },
    {
      "cell_type": "markdown",
      "source": [
        "**Деление**"
      ],
      "metadata": {
        "id": "evd4rEl_gBFP"
      }
    },
    {
      "cell_type": "code",
      "source": [
        "a.div(c)"
      ],
      "metadata": {
        "colab": {
          "base_uri": "https://localhost:8080/"
        },
        "id": "91Dydjz8gKjE",
        "outputId": "5c617cba-7bad-4837-8533-1f2b0bae03ee"
      },
      "execution_count": 11,
      "outputs": [
        {
          "output_type": "execute_result",
          "data": {
            "text/plain": [
              "tensor([[7.7852e-01, 2.0011e-02],\n",
              "        [4.2422e-02, 4.3693e+01],\n",
              "        [1.0107e+00, 8.7992e-01],\n",
              "        [2.2564e-01, 2.2692e-01],\n",
              "        [8.6261e-01, 8.6135e-01]])"
            ]
          },
          "metadata": {},
          "execution_count": 11
        }
      ]
    },
    {
      "cell_type": "markdown",
      "metadata": {
        "id": "rIaroFO6YKBT"
      },
      "source": [
        "### Задача 3"
      ]
    },
    {
      "cell_type": "markdown",
      "metadata": {
        "id": "GfLHVvKvYKBT"
      },
      "source": [
        "1). Создайте тензор *целых чисел* `images` размерности (100, 200, 200, 3) (можно интерпретировать это как 100 картинок размера 200х200 с тремя цветовыми каналами, то есть 100 цветных изображений 200х200). Заполните его нулями  \n",
        "\n",
        "2). Сделайте так, чтобы у $i$-ой по порядку картинки была нарисована белая полоса толщиной два пикселя в строках, которые соответствуют номеру картинки. Например, у 3-ей по порядку картинки белая полоска будет занимать 6 и 7 строки, у 99 - 198 и 199. Сделать белую строку можно, записав в ячейки тензора число 255 (по всем трём каналам). Выведите несколько примеров с помощью `pylot`  \n",
        "\n",
        "3). Посчитайте среднее тензора `images` по 1-ой оси (по сути - средняя картинка), умножьте полученный тензор на 70. Нарисуйте с помощью `pyplot`, должна получиться серая картинка (при взятии среднего нужно привести тензор к float с помощью `.float()`, при отрисовке обратно к int с помощью `.int()`)"
      ]
    },
    {
      "cell_type": "code",
      "metadata": {
        "id": "pZVGHEQQYKBU"
      },
      "source": [
        "images = torch.IntTensor(100, 200, 200, 3).zero_()"
      ],
      "execution_count": 12,
      "outputs": []
    },
    {
      "cell_type": "code",
      "source": [
        "for i in range(images.shape[0]):\n",
        "  images[i][2*i:2*i+2] = 255\n",
        "plt.imshow(images[3])"
      ],
      "metadata": {
        "colab": {
          "base_uri": "https://localhost:8080/",
          "height": 287
        },
        "id": "qjTSBjrYhQsk",
        "outputId": "eac26d1b-fb75-4e5b-ef11-9bb7ccd8bd58"
      },
      "execution_count": 13,
      "outputs": [
        {
          "output_type": "execute_result",
          "data": {
            "text/plain": [
              "<matplotlib.image.AxesImage at 0x7fcb25a85d90>"
            ]
          },
          "metadata": {},
          "execution_count": 13
        },
        {
          "output_type": "display_data",
          "data": {
            "image/png": "[encoded data removed]",
            "text/plain": [
              "<Figure size 432x288 with 1 Axes>"
            ]
          },
          "metadata": {
            "needs_background": "light"
          }
        }
      ]
    },
    {
      "cell_type": "code",
      "source": [
        "plt.imshow((images.float().mean(0) * 70).int())"
      ],
      "metadata": {
        "colab": {
          "base_uri": "https://localhost:8080/",
          "height": 287
        },
        "id": "j9yJDwqLhzVw",
        "outputId": "c5bb9c64-7494-4d32-ab61-3136b084d67f"
      },
      "execution_count": 14,
      "outputs": [
        {
          "output_type": "execute_result",
          "data": {
            "text/plain": [
              "<matplotlib.image.AxesImage at 0x7fcb25a855d0>"
            ]
          },
          "metadata": {},
          "execution_count": 14
        },
        {
          "output_type": "display_data",
          "data": {
            "image/png": "[encoded data removed]",
            "text/plain": [
              "<Figure size 432x288 with 1 Axes>"
            ]
          },
          "metadata": {
            "needs_background": "light"
          }
        }
      ]
    },
    {
      "cell_type": "markdown",
      "metadata": {
        "id": "oQnhq5ZdYKCu"
      },
      "source": [
        "### Задача 4"
      ]
    },
    {
      "cell_type": "markdown",
      "metadata": {
        "id": "UB95BhgTYKCu"
      },
      "source": [
        "- В Colab нажмите в меню сверху: `Runtime` -> `Change Runtime Type` -> `GPU`, где изначально стоит `None` (`Среда выполнение` - `Сменить среду выполнения`)\n",
        "- Объявите тензор `a` размера (2, 3, 4) и тензор `b` размера (1, 8, 3) на GPU, иницилизируйте их случайно равномерно (`.uniform_()`)\n",
        "- Затем измените форму тензора `b`, чтобы она совпадала с формой тензора `a`, получите тензор `c`  \n",
        "- Переместите `c` на CPU, переместите `a` на CPU  \n",
        "- Оберните их в `Variable()`\n",
        "- Объявите тензор `L = torch.mean((c - a) `**` 2)` и посчитайте градиент `L` по `c` ( то есть $\\frac{\\partial{L}}{\\partial{c}})$\n",
        "- Выведите градиент `L` по `c`"
      ]
    },
    {
      "cell_type": "code",
      "metadata": {
        "id": "WESOm5TCYKCv",
        "colab": {
          "base_uri": "https://localhost:8080/"
        },
        "outputId": "b58dc245-0024-4073-f1c4-25ead1205e90"
      },
      "source": [
        "a = torch.rand(2, 3, 4).uniform_().cuda()\n",
        "b = torch.rand(1, 8, 3).uniform_().cuda()\n",
        "a, b"
      ],
      "execution_count": 16,
      "outputs": [
        {
          "output_type": "execute_result",
          "data": {
            "text/plain": [
              "(tensor([[[0.2502, 0.5469, 0.8704, 0.6962],\n",
              "          [0.2157, 0.9777, 0.6638, 0.4355],\n",
              "          [0.9857, 0.2256, 0.8829, 0.0759]],\n",
              " \n",
              "         [[0.6560, 0.4347, 0.8059, 0.3803],\n",
              "          [0.9793, 0.0328, 0.8513, 0.7974],\n",
              "          [0.4249, 0.0461, 0.6581, 0.7719]]], device='cuda:0'),\n",
              " tensor([[[0.4556, 0.7131, 0.3859],\n",
              "          [0.2989, 0.0375, 0.9466],\n",
              "          [0.5428, 0.6610, 0.4539],\n",
              "          [0.5464, 0.9931, 0.9200],\n",
              "          [0.8034, 0.3544, 0.8312],\n",
              "          [0.8841, 0.0093, 0.2547],\n",
              "          [0.0840, 0.1899, 0.9763],\n",
              "          [0.6553, 0.4606, 0.1272]]], device='cuda:0'))"
            ]
          },
          "metadata": {},
          "execution_count": 16
        }
      ]
    },
    {
      "cell_type": "code",
      "source": [
        "c = b.reshape(a.shape)\n",
        "a.size() == c.size()"
      ],
      "metadata": {
        "colab": {
          "base_uri": "https://localhost:8080/"
        },
        "id": "MDfOgX7ejkF_",
        "outputId": "5d658333-e34b-4d05-db33-813f2600e7ad"
      },
      "execution_count": 24,
      "outputs": [
        {
          "output_type": "execute_result",
          "data": {
            "text/plain": [
              "True"
            ]
          },
          "metadata": {},
          "execution_count": 24
        }
      ]
    },
    {
      "cell_type": "code",
      "source": [
        "c = c.cpu()\n",
        "a = a.cpu()\n",
        "a, c"
      ],
      "metadata": {
        "colab": {
          "base_uri": "https://localhost:8080/"
        },
        "id": "zNX1mW8DkFVf",
        "outputId": "bbf4c858-d1a8-4b4b-9c49-1da7a882dbe5"
      },
      "execution_count": 25,
      "outputs": [
        {
          "output_type": "execute_result",
          "data": {
            "text/plain": [
              "(tensor([[[0.2502, 0.5469, 0.8704, 0.6962],\n",
              "          [0.2157, 0.9777, 0.6638, 0.4355],\n",
              "          [0.9857, 0.2256, 0.8829, 0.0759]],\n",
              " \n",
              "         [[0.6560, 0.4347, 0.8059, 0.3803],\n",
              "          [0.9793, 0.0328, 0.8513, 0.7974],\n",
              "          [0.4249, 0.0461, 0.6581, 0.7719]]]),\n",
              " tensor([[[0.4556, 0.7131, 0.3859, 0.2989],\n",
              "          [0.0375, 0.9466, 0.5428, 0.6610],\n",
              "          [0.4539, 0.5464, 0.9931, 0.9200]],\n",
              " \n",
              "         [[0.8034, 0.3544, 0.8312, 0.8841],\n",
              "          [0.0093, 0.2547, 0.0840, 0.1899],\n",
              "          [0.9763, 0.6553, 0.4606, 0.1272]]]))"
            ]
          },
          "metadata": {},
          "execution_count": 25
        }
      ]
    },
    {
      "cell_type": "code",
      "source": [
        "a = Variable(a)\n",
        "c = Variable(c, requires_grad=True)\n",
        "a, c"
      ],
      "metadata": {
        "colab": {
          "base_uri": "https://localhost:8080/"
        },
        "id": "CvwzWDs7kRA8",
        "outputId": "e628c8a8-a1e8-4d02-edd5-29f4f0c5e918"
      },
      "execution_count": 46,
      "outputs": [
        {
          "output_type": "execute_result",
          "data": {
            "text/plain": [
              "(tensor([[[0.2502, 0.5469, 0.8704, 0.6962],\n",
              "          [0.2157, 0.9777, 0.6638, 0.4355],\n",
              "          [0.9857, 0.2256, 0.8829, 0.0759]],\n",
              " \n",
              "         [[0.6560, 0.4347, 0.8059, 0.3803],\n",
              "          [0.9793, 0.0328, 0.8513, 0.7974],\n",
              "          [0.4249, 0.0461, 0.6581, 0.7719]]]),\n",
              " tensor([[[0.4556, 0.7131, 0.3859, 0.2989],\n",
              "          [0.0375, 0.9466, 0.5428, 0.6610],\n",
              "          [0.4539, 0.5464, 0.9931, 0.9200]],\n",
              " \n",
              "         [[0.8034, 0.3544, 0.8312, 0.8841],\n",
              "          [0.0093, 0.2547, 0.0840, 0.1899],\n",
              "          [0.9763, 0.6553, 0.4606, 0.1272]]], requires_grad=True))"
            ]
          },
          "metadata": {},
          "execution_count": 46
        }
      ]
    },
    {
      "cell_type": "code",
      "source": [
        "L = torch.mean((c - a)**2)\n",
        "L.backward()"
      ],
      "metadata": {
        "id": "AMQWxgd4lGsP"
      },
      "execution_count": 56,
      "outputs": []
    },
    {
      "cell_type": "code",
      "source": [
        "c.grad"
      ],
      "metadata": {
        "colab": {
          "base_uri": "https://localhost:8080/"
        },
        "id": "sWqxSLE3l3xU",
        "outputId": "31ce48cd-da6e-4ad5-ffba-38bea4e1c797"
      },
      "execution_count": 57,
      "outputs": [
        {
          "output_type": "execute_result",
          "data": {
            "text/plain": [
              "tensor([[[ 0.0685,  0.0554, -0.1615, -0.1324],\n",
              "         [-0.0594, -0.0104, -0.0403,  0.0752],\n",
              "         [-0.1773,  0.1069,  0.0368,  0.2814]],\n",
              "\n",
              "        [[ 0.0491, -0.0268,  0.0084,  0.1679],\n",
              "         [-0.3233,  0.0739, -0.2558, -0.2025],\n",
              "         [ 0.1838,  0.2031, -0.0658, -0.2149]]])"
            ]
          },
          "metadata": {},
          "execution_count": 57
        }
      ]
    }
  ]
}